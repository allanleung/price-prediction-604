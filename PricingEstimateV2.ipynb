{
 "cells": [
  {
   "cell_type": "markdown",
   "metadata": {},
   "source": [
    "# 0.0 Problem Statement\n",
    "\n",
    "Predict the sold price of the property that sold on 2020"
   ]
  },
  {
   "cell_type": "markdown",
   "metadata": {},
   "source": [
    "# 1.1 Take a Quick Look at Data Structure\n",
    "\n",
    "The goal of this section is to analyze the data and only keep data that is likely to be useful to us. Processing data for ML algorithm will be done in later sections"
   ]
  },
  {
   "cell_type": "markdown",
   "metadata": {},
   "source": [
    "We have the housing data as before. But now we are only interested in listings that sold in 2020. We will also add additional features such as Interest Rate, and assessement value of the properties from 2020 and 2019. See the get_data variable in PreprocessingPipelineV2 for details on the data we will use for our purpose"
   ]
  },
  {
   "cell_type": "code",
   "execution_count": 50,
   "metadata": {},
   "outputs": [],
   "source": [
    "import PreprocessingPipelineV2"
   ]
  },
  {
   "cell_type": "code",
   "execution_count": 51,
   "metadata": {},
   "outputs": [],
   "source": [
    "house_data_dir = r\"C:\\Users\\KI PC\\OneDrive\\Documents\\Software Engineering and Computer Science\\Internships\\Riipen - KnockNow\\BC-House-Pricing-Model\"\n",
    "seasons_data_path = r\"C:\\Users\\KI PC\\OneDrive\\Documents\\Software Engineering and Computer Science\\Internships\\Riipen - KnockNow\\BC-House-Pricing-Model\\month_seasons.csv\"\n",
    "#mortgage rate from here: https://www.ratehub.ca/historical-mortgage-rates-widget\n",
    "interest_rate_2020_path = r\"C:\\Users\\KI PC\\OneDrive\\Documents\\Software Engineering and Computer Science\\Internships\\Riipen - KnockNow\\BC-House-Pricing-Model\\2020_month_by_month_interest_rate.csv\"\n",
    "assesement_data_path = r\"C:\\Users\\KI PC\\OneDrive\\Documents\\Software Engineering and Computer Science\\Internships\\Riipen - KnockNow\\BC-House-Pricing-Model\\West-van-assessments.csv\"\n",
    "longitude_latitude_data_path = r\"C:\\Users\\KI PC\\OneDrive\\Documents\\Software Engineering and Computer Science\\Internships\\Riipen - KnockNow\\BC-House-Pricing-Model\\longitude_latitude_data.csv\""
   ]
  },
  {
   "cell_type": "code",
   "execution_count": 52,
   "metadata": {},
   "outputs": [],
   "source": [
    "#get data\n",
    "import pandas as pd\n",
    "house_data = PreprocessingPipelineV2.load_data(house_data_dir, \"Spreadsheet\")\n",
    "assesement_data = pd.read_csv(assesement_data_path)\n",
    "seasons_data = pd.read_csv(seasons_data_path)\n",
    "interest_rate_2020_data = pd.read_csv(interest_rate_2020_path)"
   ]
  },
  {
   "cell_type": "code",
   "execution_count": 53,
   "metadata": {},
   "outputs": [
    {
     "name": "stderr",
     "output_type": "stream",
     "text": [
      "C:\\Users\\KI PC\\OneDrive\\Documents\\Software Engineering and Computer Science\\Internships\\Riipen - KnockNow\\BC-House-Pricing-Model\\PreprocessingPipelineV2.py:296: FutureWarning: The default value of regex will change from True to False in a future version. In addition, single character regular expressions will*not* be treated as literal strings when regex=True.\n",
      "  X[col_name] = X[col_name].str.replace(bad_char, \"\")\n"
     ]
    }
   ],
   "source": [
    "house_data_sold = PreprocessingPipelineV2.get_data.fit_transform([house_data, assesement_data, seasons_data, interest_rate_2020_data])"
   ]
  },
  {
   "cell_type": "code",
   "execution_count": 54,
   "metadata": {},
   "outputs": [
    {
     "data": {
      "text/html": [
       "<div>\n",
       "<style scoped>\n",
       "    .dataframe tbody tr th:only-of-type {\n",
       "        vertical-align: middle;\n",
       "    }\n",
       "\n",
       "    .dataframe tbody tr th {\n",
       "        vertical-align: top;\n",
       "    }\n",
       "\n",
       "    .dataframe thead th {\n",
       "        text-align: right;\n",
       "    }\n",
       "</style>\n",
       "<table border=\"1\" class=\"dataframe\">\n",
       "  <thead>\n",
       "    <tr style=\"text-align: right;\">\n",
       "      <th></th>\n",
       "      <th>Address</th>\n",
       "      <th>DOM</th>\n",
       "      <th>Tot BR</th>\n",
       "      <th>Tot Baths</th>\n",
       "      <th>TotFlArea</th>\n",
       "      <th>Age</th>\n",
       "      <th>Frontage - Feet</th>\n",
       "      <th>#Kitchens</th>\n",
       "      <th>List Date</th>\n",
       "      <th>Sold Date</th>\n",
       "      <th>...</th>\n",
       "      <th>2020 Buildings Value</th>\n",
       "      <th>2019 Total Value</th>\n",
       "      <th>2019 Land Value</th>\n",
       "      <th>2019 Buildings Value</th>\n",
       "      <th>Interest Rate</th>\n",
       "      <th>Season</th>\n",
       "      <th>S/A</th>\n",
       "      <th>TypeDwel</th>\n",
       "      <th>Showing Appts</th>\n",
       "      <th>Sold Price</th>\n",
       "    </tr>\n",
       "  </thead>\n",
       "  <tbody>\n",
       "    <tr>\n",
       "      <th>73</th>\n",
       "      <td>2675 SKILIFT PLACE</td>\n",
       "      <td>16</td>\n",
       "      <td>3</td>\n",
       "      <td>2</td>\n",
       "      <td>3,182</td>\n",
       "      <td>62.0</td>\n",
       "      <td>0.0</td>\n",
       "      <td>1</td>\n",
       "      <td>4/7/2020</td>\n",
       "      <td>4/23/2020</td>\n",
       "      <td>...</td>\n",
       "      <td>55900.0</td>\n",
       "      <td>1794900.0</td>\n",
       "      <td>1739000.0</td>\n",
       "      <td>55900.0</td>\n",
       "      <td>2.39</td>\n",
       "      <td>Spring</td>\n",
       "      <td>VWVCP</td>\n",
       "      <td>HOUSE</td>\n",
       "      <td>Phone L.R. First</td>\n",
       "      <td>1441110</td>\n",
       "    </tr>\n",
       "    <tr>\n",
       "      <th>74</th>\n",
       "      <td>2675 SKILIFT PLACE</td>\n",
       "      <td>16</td>\n",
       "      <td>3</td>\n",
       "      <td>2</td>\n",
       "      <td>3,182</td>\n",
       "      <td>62.0</td>\n",
       "      <td>0.0</td>\n",
       "      <td>1</td>\n",
       "      <td>4/7/2020</td>\n",
       "      <td>4/23/2020</td>\n",
       "      <td>...</td>\n",
       "      <td>55900.0</td>\n",
       "      <td>1794900.0</td>\n",
       "      <td>1739000.0</td>\n",
       "      <td>55900.0</td>\n",
       "      <td>2.39</td>\n",
       "      <td>Spring</td>\n",
       "      <td>VWVCP</td>\n",
       "      <td>HOUSE</td>\n",
       "      <td>Phone L.R. First</td>\n",
       "      <td>1441110</td>\n",
       "    </tr>\n",
       "    <tr>\n",
       "      <th>332</th>\n",
       "      <td>1575 TAYLOR WAY</td>\n",
       "      <td>8</td>\n",
       "      <td>4</td>\n",
       "      <td>2</td>\n",
       "      <td>2,100</td>\n",
       "      <td>62.0</td>\n",
       "      <td>105.00</td>\n",
       "      <td>2</td>\n",
       "      <td>4/20/2020</td>\n",
       "      <td>4/28/2020</td>\n",
       "      <td>...</td>\n",
       "      <td>67600.0</td>\n",
       "      <td>1343400.0</td>\n",
       "      <td>1277000.0</td>\n",
       "      <td>66400.0</td>\n",
       "      <td>2.39</td>\n",
       "      <td>Spring</td>\n",
       "      <td>VWVBP</td>\n",
       "      <td>HOUSE</td>\n",
       "      <td>Phone L.R. First</td>\n",
       "      <td>1555000</td>\n",
       "    </tr>\n",
       "    <tr>\n",
       "      <th>360</th>\n",
       "      <td>4278 ROCKRIDGE PLACE</td>\n",
       "      <td>34</td>\n",
       "      <td>4</td>\n",
       "      <td>4</td>\n",
       "      <td>5,561</td>\n",
       "      <td>38.0</td>\n",
       "      <td>129.00</td>\n",
       "      <td>1</td>\n",
       "      <td>3/3/2020</td>\n",
       "      <td>4/6/2020</td>\n",
       "      <td>...</td>\n",
       "      <td>1212000.0</td>\n",
       "      <td>3107000.0</td>\n",
       "      <td>1896000.0</td>\n",
       "      <td>1211000.0</td>\n",
       "      <td>2.39</td>\n",
       "      <td>Spring</td>\n",
       "      <td>VWVRR</td>\n",
       "      <td>HOUSE</td>\n",
       "      <td>Phone L.R. First</td>\n",
       "      <td>3300000</td>\n",
       "    </tr>\n",
       "    <tr>\n",
       "      <th>400</th>\n",
       "      <td>2045 27TH STREET</td>\n",
       "      <td>29</td>\n",
       "      <td>4</td>\n",
       "      <td>3</td>\n",
       "      <td>2,307</td>\n",
       "      <td>54.0</td>\n",
       "      <td>74.61</td>\n",
       "      <td>1</td>\n",
       "      <td>3/9/2020</td>\n",
       "      <td>4/7/2020</td>\n",
       "      <td>...</td>\n",
       "      <td>243000.0</td>\n",
       "      <td>1590000.0</td>\n",
       "      <td>1462000.0</td>\n",
       "      <td>128000.0</td>\n",
       "      <td>2.39</td>\n",
       "      <td>Spring</td>\n",
       "      <td>VWVQU</td>\n",
       "      <td>HOUSE</td>\n",
       "      <td>Phone Other</td>\n",
       "      <td>1900000</td>\n",
       "    </tr>\n",
       "  </tbody>\n",
       "</table>\n",
       "<p>5 rows × 22 columns</p>\n",
       "</div>"
      ],
      "text/plain": [
       "                  Address  DOM  Tot BR  Tot Baths TotFlArea   Age  \\\n",
       "73     2675 SKILIFT PLACE   16       3          2     3,182  62.0   \n",
       "74     2675 SKILIFT PLACE   16       3          2     3,182  62.0   \n",
       "332       1575 TAYLOR WAY    8       4          2     2,100  62.0   \n",
       "360  4278 ROCKRIDGE PLACE   34       4          4     5,561  38.0   \n",
       "400      2045 27TH STREET   29       4          3     2,307  54.0   \n",
       "\n",
       "    Frontage - Feet  #Kitchens  List Date  Sold Date  ...  \\\n",
       "73              0.0          1   4/7/2020  4/23/2020  ...   \n",
       "74              0.0          1   4/7/2020  4/23/2020  ...   \n",
       "332          105.00          2  4/20/2020  4/28/2020  ...   \n",
       "360          129.00          1   3/3/2020   4/6/2020  ...   \n",
       "400           74.61          1   3/9/2020   4/7/2020  ...   \n",
       "\n",
       "     2020 Buildings Value  2019 Total Value  2019 Land Value  \\\n",
       "73                55900.0         1794900.0        1739000.0   \n",
       "74                55900.0         1794900.0        1739000.0   \n",
       "332               67600.0         1343400.0        1277000.0   \n",
       "360             1212000.0         3107000.0        1896000.0   \n",
       "400              243000.0         1590000.0        1462000.0   \n",
       "\n",
       "     2019 Buildings Value  Interest Rate  Season    S/A TypeDwel  \\\n",
       "73                55900.0           2.39  Spring  VWVCP    HOUSE   \n",
       "74                55900.0           2.39  Spring  VWVCP    HOUSE   \n",
       "332               66400.0           2.39  Spring  VWVBP    HOUSE   \n",
       "360             1211000.0           2.39  Spring  VWVRR    HOUSE   \n",
       "400              128000.0           2.39  Spring  VWVQU    HOUSE   \n",
       "\n",
       "        Showing Appts Sold Price  \n",
       "73   Phone L.R. First    1441110  \n",
       "74   Phone L.R. First    1441110  \n",
       "332  Phone L.R. First    1555000  \n",
       "360  Phone L.R. First    3300000  \n",
       "400       Phone Other    1900000  \n",
       "\n",
       "[5 rows x 22 columns]"
      ]
     },
     "execution_count": 54,
     "metadata": {},
     "output_type": "execute_result"
    }
   ],
   "source": [
    "house_data_sold.head()"
   ]
  },
  {
   "cell_type": "markdown",
   "metadata": {},
   "source": [
    "We have the following columns:"
   ]
  },
  {
   "cell_type": "code",
   "execution_count": 55,
   "metadata": {},
   "outputs": [
    {
     "data": {
      "text/plain": [
       "Index(['Address', 'DOM', 'Tot BR', 'Tot Baths', 'TotFlArea', 'Age',\n",
       "       'Frontage - Feet', '#Kitchens', 'List Date', 'Sold Date',\n",
       "       '2020 Total Value', '2020 Land Value', '2020 Buildings Value',\n",
       "       '2019 Total Value', '2019 Land Value', '2019 Buildings Value',\n",
       "       'Interest Rate', 'Season', 'S/A', 'TypeDwel', 'Showing Appts',\n",
       "       'Sold Price'],\n",
       "      dtype='object')"
      ]
     },
     "execution_count": 55,
     "metadata": {},
     "output_type": "execute_result"
    }
   ],
   "source": [
    "house_data_sold.columns"
   ]
  },
  {
   "cell_type": "markdown",
   "metadata": {},
   "source": [
    "We have seen them in PricingEstimateV1. The new ones are described below\n",
    "\n",
    "2019/2020 Total Value, 2019/2020 Land Value, 2019/2020 Buildings Value: These are the assessed value of the properties from https://www.bcassessment.ca/\n",
    "\n",
    "Season: Fall / Summer / Winter / Spring\n",
    "\n",
    "Interest Rate: 5 year Mortgage Rate in the month that the property sold (https://www.ratehub.ca/historical-mortgage-rates-widget)"
   ]
  },
  {
   "cell_type": "markdown",
   "metadata": {},
   "source": [
    "## 1.2 Train and Test Split"
   ]
  },
  {
   "cell_type": "markdown",
   "metadata": {},
   "source": [
    "We will again use stratified sampling\n",
    "\n",
    "\n",
    "\n"
   ]
  },
  {
   "cell_type": "code",
   "execution_count": 56,
   "metadata": {},
   "outputs": [],
   "source": [
    "strat_train, strat_train_labels, strat_test, strat_test_labels =  PreprocessingPipelineV2.create_train_test_set(df = house_data_sold)"
   ]
  },
  {
   "cell_type": "code",
   "execution_count": 57,
   "metadata": {},
   "outputs": [
    {
     "name": "stdout",
     "output_type": "stream",
     "text": [
      "(424, 21)\n",
      "(424,)\n",
      "(106, 21)\n",
      "(106,)\n"
     ]
    }
   ],
   "source": [
    "print(strat_train.shape)\n",
    "print(strat_train_labels.shape)\n",
    "print(strat_test.shape)\n",
    "print(strat_test_labels.shape)"
   ]
  },
  {
   "cell_type": "markdown",
   "metadata": {},
   "source": [
    "# 2.0 Prepare the Data for Machine Learning Algorithms"
   ]
  },
  {
   "cell_type": "markdown",
   "metadata": {},
   "source": [
    "See the pipeline data_processing_pipeline in PreprocessingPipelineV2 for details on how the data was transformed for machine learning algorithms. Most of them stayed the same from PreprocessingPipeline"
   ]
  },
  {
   "cell_type": "markdown",
   "metadata": {},
   "source": [
    "# 3.0 Selecting, Fine Tuning and Training a Model"
   ]
  },
  {
   "cell_type": "markdown",
   "metadata": {},
   "source": [
    "As of now, we have two data sets: Training Set and Test Set. Typically training set is further divided into a training set and a validation set. The reduced training set is used to train the model, and the validation set is used to fine-tune the model. For our purpose, we will use repeated cross-validation instead. In repeated cross-validation, we use many small validation sets. Each model is evaluated once per validation set after it is trained on the rest of the data. By averaging out all the evaluations of a model, we get a much accurate measure of its performance. The drawback is that the training time is multiplied by the number of validation sets."
   ]
  },
  {
   "cell_type": "markdown",
   "metadata": {},
   "source": [
    "We will use the following models for testing: Decision Tree Regressor, Random Forest Regressor, and SVR"
   ]
  },
  {
   "cell_type": "markdown",
   "metadata": {},
   "source": [
    "## 3.1 Initial Model(s) Selection"
   ]
  },
  {
   "cell_type": "markdown",
   "metadata": {},
   "source": [
    "First, we need to preprocess the data"
   ]
  },
  {
   "cell_type": "code",
   "execution_count": 58,
   "metadata": {
    "tags": [
     "outputPrepend"
    ]
   },
   "outputs": [],
   "source": [
    "strat_train_prepared = PreprocessingPipelineV2.data_preprocessing_pipeline.fit_transform(strat_train)"
   ]
  },
  {
   "cell_type": "code",
   "execution_count": 59,
   "metadata": {},
   "outputs": [
    {
     "data": {
      "text/plain": [
       "(424, 53)"
      ]
     },
     "execution_count": 59,
     "metadata": {},
     "output_type": "execute_result"
    }
   ],
   "source": [
    "strat_train_prepared.shape"
   ]
  },
  {
   "cell_type": "markdown",
   "metadata": {},
   "source": [
    "The columns are as follows"
   ]
  },
  {
   "cell_type": "code",
   "execution_count": 60,
   "metadata": {},
   "outputs": [],
   "source": [
    "attributes = PreprocessingPipelineV2.numerical_columns + PreprocessingPipelineV2.ordinal_columns + PreprocessingPipelineV2.one_hot_encoding_cols_catgs"
   ]
  },
  {
   "cell_type": "code",
   "execution_count": 61,
   "metadata": {},
   "outputs": [
    {
     "data": {
      "text/plain": [
       "53"
      ]
     },
     "execution_count": 61,
     "metadata": {},
     "output_type": "execute_result"
    }
   ],
   "source": [
    "len(attributes)"
   ]
  },
  {
   "cell_type": "code",
   "execution_count": 62,
   "metadata": {},
   "outputs": [],
   "source": [
    "from sklearn.model_selection import cross_val_score"
   ]
  },
  {
   "cell_type": "code",
   "execution_count": 63,
   "metadata": {},
   "outputs": [],
   "source": [
    "#Function to show cross validation scores\n",
    "def display_scores(scores):\n",
    "    print(\"Scores:\", scores)\n",
    "    print(\"Mean:\", scores.mean())\n",
    "    print(\"Standard deviation:\", scores.std())"
   ]
  },
  {
   "cell_type": "markdown",
   "metadata": {},
   "source": [
    "### 3.1.1 Decision Tree Regressor"
   ]
  },
  {
   "cell_type": "code",
   "execution_count": 64,
   "metadata": {},
   "outputs": [
    {
     "data": {
      "text/plain": [
       "DecisionTreeRegressor(random_state=42)"
      ]
     },
     "execution_count": 64,
     "metadata": {},
     "output_type": "execute_result"
    }
   ],
   "source": [
    "from sklearn.tree import DecisionTreeRegressor\n",
    "tree_reg = DecisionTreeRegressor(random_state=42)\n",
    "tree_reg.fit(strat_train_prepared, strat_train_labels)"
   ]
  },
  {
   "cell_type": "code",
   "execution_count": 65,
   "metadata": {},
   "outputs": [
    {
     "name": "stdout",
     "output_type": "stream",
     "text": [
      "Scores: [ 496943.08687704  636420.60127524  914666.88929473 1448290.38186877\n",
      "  698541.10598351  429317.21992432  374942.58980327  654613.23848848\n",
      "  457112.13375203  910746.89990439]\n",
      "Mean: 702159.4147171775\n",
      "Standard deviation: 305884.05211487605\n"
     ]
    }
   ],
   "source": [
    "import numpy as np\n",
    "from sklearn.model_selection import cross_val_score\n",
    "\n",
    "scores_tree = cross_val_score(tree_reg, strat_train_prepared, strat_train_labels, scoring=\"neg_mean_squared_error\", cv=10)\n",
    "tree_rmse_scores = np.sqrt(-scores_tree)\n",
    "display_scores(tree_rmse_scores)"
   ]
  },
  {
   "cell_type": "markdown",
   "metadata": {},
   "source": [
    "### 3.1.2 Random Forest Regressor"
   ]
  },
  {
   "cell_type": "code",
   "execution_count": 66,
   "metadata": {},
   "outputs": [
    {
     "data": {
      "text/plain": [
       "RandomForestRegressor(random_state=42)"
      ]
     },
     "execution_count": 66,
     "metadata": {},
     "output_type": "execute_result"
    }
   ],
   "source": [
    "from sklearn.ensemble import RandomForestRegressor\n",
    "\n",
    "forest_reg = RandomForestRegressor(n_estimators=100, random_state=42)\n",
    "forest_reg.fit(strat_train_prepared, strat_train_labels)"
   ]
  },
  {
   "cell_type": "code",
   "execution_count": 67,
   "metadata": {},
   "outputs": [
    {
     "name": "stdout",
     "output_type": "stream",
     "text": [
      "Scores: [ 318072.45277284  489482.46107972  779418.15622912 1371477.40167161\n",
      "  602370.21004875  351979.76264135  362542.29479952  356409.2720032\n",
      "  413793.86893444  584656.5714782 ]\n",
      "Mean: 563020.2451658745\n",
      "Standard deviation: 302909.37692627567\n"
     ]
    }
   ],
   "source": [
    "scores_forest = cross_val_score(forest_reg, strat_train_prepared, strat_train_labels, scoring=\"neg_mean_squared_error\", cv=10)\n",
    "forest_rmse_scores = np.sqrt(-scores_forest)\n",
    "display_scores(forest_rmse_scores)"
   ]
  },
  {
   "cell_type": "markdown",
   "metadata": {},
   "source": [
    "The results are still not great but The Random Forest Regressor is outperforming the Decision Tree Regressor by a signifciant margin"
   ]
  },
  {
   "cell_type": "markdown",
   "metadata": {},
   "source": [
    "### 3.1.3 SVR"
   ]
  },
  {
   "cell_type": "code",
   "execution_count": 68,
   "metadata": {},
   "outputs": [
    {
     "data": {
      "text/plain": [
       "SVR(kernel='linear')"
      ]
     },
     "execution_count": 68,
     "metadata": {},
     "output_type": "execute_result"
    }
   ],
   "source": [
    "from sklearn.svm import SVR\n",
    "svm_reg = SVR(kernel=\"linear\")\n",
    "svm_reg.fit(strat_train_prepared, strat_train_labels)"
   ]
  },
  {
   "cell_type": "code",
   "execution_count": 69,
   "metadata": {},
   "outputs": [
    {
     "name": "stdout",
     "output_type": "stream",
     "text": [
      "Scores: [1017245.98067136 1755003.78742336 2325827.45504266 1603963.69046168\n",
      " 1556436.30768348 1586522.13425066 1763226.03033128 2165512.46990569\n",
      " 1445170.70347792 2393613.48578087]\n",
      "Mean: 1761252.2045028948\n",
      "Standard deviation: 404075.22895487625\n"
     ]
    }
   ],
   "source": [
    "scores_svr = cross_val_score(svm_reg, strat_train_prepared, strat_train_labels, scoring=\"neg_mean_squared_error\", cv=10)\n",
    "svm_reg_rmse_scores = np.sqrt(-scores_svr)\n",
    "display_scores(svm_reg_rmse_scores)"
   ]
  },
  {
   "cell_type": "markdown",
   "metadata": {},
   "source": [
    "The Random Forest Regressor is outperfomring by quite a margin but we may get better results with SVR when we use Grid Search or Randomized Search. So for next stage, we will only keep SVR and Random Forest Regressor\n",
    "\n",
    "In addition, Random Forest Algorithm combines the results of many decision trees to come up with results. Thus, it is unlikely to be helpful with ensemble learning. In addition, as shown above, it is likely to give better results than Decision Trees. So we will not consider Decision Tree any further."
   ]
  },
  {
   "cell_type": "markdown",
   "metadata": {},
   "source": [
    "# 3.2 Final Model Selection"
   ]
  },
  {
   "cell_type": "markdown",
   "metadata": {},
   "source": [
    "### 3.2.1 Grid Search with Random Forest Regressor"
   ]
  },
  {
   "cell_type": "code",
   "execution_count": 70,
   "metadata": {},
   "outputs": [
    {
     "data": {
      "text/plain": [
       "GridSearchCV(cv=5, estimator=RandomForestRegressor(random_state=42),\n",
       "             param_grid=[{'max_features': [2, 4, 6, 8],\n",
       "                          'n_estimators': [3, 10, 30]},\n",
       "                         {'bootstrap': [False], 'max_features': [2, 3, 4],\n",
       "                          'n_estimators': [3, 10]}],\n",
       "             return_train_score=True, scoring='neg_mean_squared_error')"
      ]
     },
     "execution_count": 70,
     "metadata": {},
     "output_type": "execute_result"
    }
   ],
   "source": [
    "from sklearn.model_selection import GridSearchCV\n",
    "\n",
    "param_grid_forest = [\n",
    "    {'n_estimators': [3, 10, 30], 'max_features': [2, 4, 6, 8]},\n",
    "    {'bootstrap': [False], 'n_estimators': [3, 10], 'max_features': [2, 3, 4]},\n",
    "  ]\n",
    "\n",
    "forest_reg = RandomForestRegressor(random_state=42)\n",
    "# train across 5 folds, that's a total of (12+6)*5=90 rounds of training \n",
    "grid_search_forest = GridSearchCV(forest_reg, param_grid_forest, cv=5,\n",
    "                           scoring='neg_mean_squared_error',\n",
    "                           return_train_score=True)\n",
    "grid_search_forest.fit(strat_train_prepared, strat_train_labels)"
   ]
  },
  {
   "cell_type": "code",
   "execution_count": 71,
   "metadata": {},
   "outputs": [
    {
     "name": "stdout",
     "output_type": "stream",
     "text": [
      "{'max_features': 8, 'n_estimators': 30}\n",
      "RandomForestRegressor(max_features=8, n_estimators=30, random_state=42)\n",
      "Best Score: 601987.8302498491\n"
     ]
    }
   ],
   "source": [
    "print(grid_search_forest.best_params_)\n",
    "print(grid_search_forest.best_estimator_)\n",
    "print(\"Best Score: {0}\".format(np.sqrt(-grid_search_forest.best_score_)))"
   ]
  },
  {
   "cell_type": "code",
   "execution_count": 72,
   "metadata": {},
   "outputs": [
    {
     "data": {
      "text/html": [
       "<div>\n",
       "<style scoped>\n",
       "    .dataframe tbody tr th:only-of-type {\n",
       "        vertical-align: middle;\n",
       "    }\n",
       "\n",
       "    .dataframe tbody tr th {\n",
       "        vertical-align: top;\n",
       "    }\n",
       "\n",
       "    .dataframe thead th {\n",
       "        text-align: right;\n",
       "    }\n",
       "</style>\n",
       "<table border=\"1\" class=\"dataframe\">\n",
       "  <thead>\n",
       "    <tr style=\"text-align: right;\">\n",
       "      <th></th>\n",
       "      <th>mean_fit_time</th>\n",
       "      <th>std_fit_time</th>\n",
       "      <th>mean_score_time</th>\n",
       "      <th>std_score_time</th>\n",
       "      <th>param_max_features</th>\n",
       "      <th>param_n_estimators</th>\n",
       "      <th>param_bootstrap</th>\n",
       "      <th>params</th>\n",
       "      <th>split0_test_score</th>\n",
       "      <th>split1_test_score</th>\n",
       "      <th>...</th>\n",
       "      <th>mean_test_score</th>\n",
       "      <th>std_test_score</th>\n",
       "      <th>rank_test_score</th>\n",
       "      <th>split0_train_score</th>\n",
       "      <th>split1_train_score</th>\n",
       "      <th>split2_train_score</th>\n",
       "      <th>split3_train_score</th>\n",
       "      <th>split4_train_score</th>\n",
       "      <th>mean_train_score</th>\n",
       "      <th>std_train_score</th>\n",
       "    </tr>\n",
       "  </thead>\n",
       "  <tbody>\n",
       "    <tr>\n",
       "      <th>0</th>\n",
       "      <td>0.006800</td>\n",
       "      <td>0.000748</td>\n",
       "      <td>0.001200</td>\n",
       "      <td>0.000402</td>\n",
       "      <td>2</td>\n",
       "      <td>3</td>\n",
       "      <td>NaN</td>\n",
       "      <td>{'max_features': 2, 'n_estimators': 3}</td>\n",
       "      <td>-6.273827e+11</td>\n",
       "      <td>-1.004348e+12</td>\n",
       "      <td>...</td>\n",
       "      <td>-6.167228e+11</td>\n",
       "      <td>2.047617e+11</td>\n",
       "      <td>15</td>\n",
       "      <td>-1.903604e+11</td>\n",
       "      <td>-1.831241e+11</td>\n",
       "      <td>-1.700660e+11</td>\n",
       "      <td>-2.365833e+11</td>\n",
       "      <td>-2.030991e+11</td>\n",
       "      <td>-1.966466e+11</td>\n",
       "      <td>2.265163e+10</td>\n",
       "    </tr>\n",
       "    <tr>\n",
       "      <th>1</th>\n",
       "      <td>0.016800</td>\n",
       "      <td>0.000748</td>\n",
       "      <td>0.001999</td>\n",
       "      <td>0.000633</td>\n",
       "      <td>2</td>\n",
       "      <td>10</td>\n",
       "      <td>NaN</td>\n",
       "      <td>{'max_features': 2, 'n_estimators': 10}</td>\n",
       "      <td>-4.837539e+11</td>\n",
       "      <td>-8.589941e+11</td>\n",
       "      <td>...</td>\n",
       "      <td>-5.695747e+11</td>\n",
       "      <td>1.728787e+11</td>\n",
       "      <td>12</td>\n",
       "      <td>-9.550661e+10</td>\n",
       "      <td>-9.895396e+10</td>\n",
       "      <td>-1.245221e+11</td>\n",
       "      <td>-1.314448e+11</td>\n",
       "      <td>-1.088218e+11</td>\n",
       "      <td>-1.118498e+11</td>\n",
       "      <td>1.405079e+10</td>\n",
       "    </tr>\n",
       "    <tr>\n",
       "      <th>2</th>\n",
       "      <td>0.044803</td>\n",
       "      <td>0.004706</td>\n",
       "      <td>0.004000</td>\n",
       "      <td>0.001549</td>\n",
       "      <td>2</td>\n",
       "      <td>30</td>\n",
       "      <td>NaN</td>\n",
       "      <td>{'max_features': 2, 'n_estimators': 30}</td>\n",
       "      <td>-3.603174e+11</td>\n",
       "      <td>-7.309165e+11</td>\n",
       "      <td>...</td>\n",
       "      <td>-4.662399e+11</td>\n",
       "      <td>1.725506e+11</td>\n",
       "      <td>6</td>\n",
       "      <td>-8.681863e+10</td>\n",
       "      <td>-6.922355e+10</td>\n",
       "      <td>-8.028099e+10</td>\n",
       "      <td>-9.001358e+10</td>\n",
       "      <td>-8.630304e+10</td>\n",
       "      <td>-8.252796e+10</td>\n",
       "      <td>7.358694e+09</td>\n",
       "    </tr>\n",
       "    <tr>\n",
       "      <th>3</th>\n",
       "      <td>0.005600</td>\n",
       "      <td>0.000482</td>\n",
       "      <td>0.001000</td>\n",
       "      <td>0.000633</td>\n",
       "      <td>4</td>\n",
       "      <td>3</td>\n",
       "      <td>NaN</td>\n",
       "      <td>{'max_features': 4, 'n_estimators': 3}</td>\n",
       "      <td>-5.934493e+11</td>\n",
       "      <td>-1.317531e+12</td>\n",
       "      <td>...</td>\n",
       "      <td>-8.336671e+11</td>\n",
       "      <td>2.914236e+11</td>\n",
       "      <td>18</td>\n",
       "      <td>-2.389847e+11</td>\n",
       "      <td>-1.223119e+11</td>\n",
       "      <td>-1.986085e+11</td>\n",
       "      <td>-2.948977e+11</td>\n",
       "      <td>-1.492871e+11</td>\n",
       "      <td>-2.008180e+11</td>\n",
       "      <td>6.185661e+10</td>\n",
       "    </tr>\n",
       "    <tr>\n",
       "      <th>4</th>\n",
       "      <td>0.015403</td>\n",
       "      <td>0.000488</td>\n",
       "      <td>0.001797</td>\n",
       "      <td>0.000399</td>\n",
       "      <td>4</td>\n",
       "      <td>10</td>\n",
       "      <td>NaN</td>\n",
       "      <td>{'max_features': 4, 'n_estimators': 10}</td>\n",
       "      <td>-3.380196e+11</td>\n",
       "      <td>-1.005885e+12</td>\n",
       "      <td>...</td>\n",
       "      <td>-5.809663e+11</td>\n",
       "      <td>2.351697e+11</td>\n",
       "      <td>13</td>\n",
       "      <td>-1.067061e+11</td>\n",
       "      <td>-6.903301e+10</td>\n",
       "      <td>-1.220344e+11</td>\n",
       "      <td>-9.688951e+10</td>\n",
       "      <td>-9.078276e+10</td>\n",
       "      <td>-9.708917e+10</td>\n",
       "      <td>1.755967e+10</td>\n",
       "    </tr>\n",
       "  </tbody>\n",
       "</table>\n",
       "<p>5 rows × 23 columns</p>\n",
       "</div>"
      ],
      "text/plain": [
       "   mean_fit_time  std_fit_time  mean_score_time  std_score_time  \\\n",
       "0       0.006800      0.000748         0.001200        0.000402   \n",
       "1       0.016800      0.000748         0.001999        0.000633   \n",
       "2       0.044803      0.004706         0.004000        0.001549   \n",
       "3       0.005600      0.000482         0.001000        0.000633   \n",
       "4       0.015403      0.000488         0.001797        0.000399   \n",
       "\n",
       "  param_max_features param_n_estimators param_bootstrap  \\\n",
       "0                  2                  3             NaN   \n",
       "1                  2                 10             NaN   \n",
       "2                  2                 30             NaN   \n",
       "3                  4                  3             NaN   \n",
       "4                  4                 10             NaN   \n",
       "\n",
       "                                    params  split0_test_score  \\\n",
       "0   {'max_features': 2, 'n_estimators': 3}      -6.273827e+11   \n",
       "1  {'max_features': 2, 'n_estimators': 10}      -4.837539e+11   \n",
       "2  {'max_features': 2, 'n_estimators': 30}      -3.603174e+11   \n",
       "3   {'max_features': 4, 'n_estimators': 3}      -5.934493e+11   \n",
       "4  {'max_features': 4, 'n_estimators': 10}      -3.380196e+11   \n",
       "\n",
       "   split1_test_score  ...  mean_test_score  std_test_score  rank_test_score  \\\n",
       "0      -1.004348e+12  ...    -6.167228e+11    2.047617e+11               15   \n",
       "1      -8.589941e+11  ...    -5.695747e+11    1.728787e+11               12   \n",
       "2      -7.309165e+11  ...    -4.662399e+11    1.725506e+11                6   \n",
       "3      -1.317531e+12  ...    -8.336671e+11    2.914236e+11               18   \n",
       "4      -1.005885e+12  ...    -5.809663e+11    2.351697e+11               13   \n",
       "\n",
       "   split0_train_score  split1_train_score  split2_train_score  \\\n",
       "0       -1.903604e+11       -1.831241e+11       -1.700660e+11   \n",
       "1       -9.550661e+10       -9.895396e+10       -1.245221e+11   \n",
       "2       -8.681863e+10       -6.922355e+10       -8.028099e+10   \n",
       "3       -2.389847e+11       -1.223119e+11       -1.986085e+11   \n",
       "4       -1.067061e+11       -6.903301e+10       -1.220344e+11   \n",
       "\n",
       "   split3_train_score  split4_train_score  mean_train_score  std_train_score  \n",
       "0       -2.365833e+11       -2.030991e+11     -1.966466e+11     2.265163e+10  \n",
       "1       -1.314448e+11       -1.088218e+11     -1.118498e+11     1.405079e+10  \n",
       "2       -9.001358e+10       -8.630304e+10     -8.252796e+10     7.358694e+09  \n",
       "3       -2.948977e+11       -1.492871e+11     -2.008180e+11     6.185661e+10  \n",
       "4       -9.688951e+10       -9.078276e+10     -9.708917e+10     1.755967e+10  \n",
       "\n",
       "[5 rows x 23 columns]"
      ]
     },
     "execution_count": 72,
     "metadata": {},
     "output_type": "execute_result"
    }
   ],
   "source": [
    "pd.DataFrame(grid_search_forest.cv_results_).head()"
   ]
  },
  {
   "cell_type": "markdown",
   "metadata": {},
   "source": [
    "Better way to see the result is as following:"
   ]
  },
  {
   "cell_type": "code",
   "execution_count": 73,
   "metadata": {},
   "outputs": [
    {
     "name": "stdout",
     "output_type": "stream",
     "text": [
      "785317.0169891203 {'max_features': 2, 'n_estimators': 3}\n",
      "754701.7100342035 {'max_features': 2, 'n_estimators': 10}\n",
      "682817.5886134165 {'max_features': 2, 'n_estimators': 30}\n",
      "913053.7179444979 {'max_features': 4, 'n_estimators': 3}\n",
      "762211.4770261773 {'max_features': 4, 'n_estimators': 10}\n",
      "673447.6275200925 {'max_features': 4, 'n_estimators': 30}\n",
      "702450.1714624757 {'max_features': 6, 'n_estimators': 3}\n",
      "628593.7846166254 {'max_features': 6, 'n_estimators': 10}\n",
      "616840.6627070004 {'max_features': 6, 'n_estimators': 30}\n",
      "703799.130474267 {'max_features': 8, 'n_estimators': 3}\n",
      "639161.9986615975 {'max_features': 8, 'n_estimators': 10}\n",
      "601987.8302498491 {'max_features': 8, 'n_estimators': 30}\n",
      "698959.7281941043 {'bootstrap': False, 'max_features': 2, 'n_estimators': 3}\n",
      "781769.1307630754 {'bootstrap': False, 'max_features': 2, 'n_estimators': 10}\n",
      "795373.4184242416 {'bootstrap': False, 'max_features': 3, 'n_estimators': 3}\n",
      "699233.5655407768 {'bootstrap': False, 'max_features': 3, 'n_estimators': 10}\n",
      "788265.9439231103 {'bootstrap': False, 'max_features': 4, 'n_estimators': 3}\n",
      "690792.6175059046 {'bootstrap': False, 'max_features': 4, 'n_estimators': 10}\n"
     ]
    }
   ],
   "source": [
    "cvres = grid_search_forest.cv_results_\n",
    "for mean_score, params in zip(cvres[\"mean_test_score\"], cvres[\"params\"]):\n",
    "    print(np.sqrt(-mean_score), params)"
   ]
  },
  {
   "cell_type": "markdown",
   "metadata": {},
   "source": [
    "### 3.2.2 Randomized Search with Random Forest Regressor"
   ]
  },
  {
   "cell_type": "code",
   "execution_count": 74,
   "metadata": {},
   "outputs": [
    {
     "name": "stdout",
     "output_type": "stream",
     "text": [
      "Fitting 5 folds for each of 50 candidates, totalling 250 fits\n",
      "[CV] END ...................max_features=7, n_estimators=180; total time=   0.2s\n",
      "[CV] END ...................max_features=7, n_estimators=180; total time=   0.2s\n",
      "[CV] END ...................max_features=7, n_estimators=180; total time=   0.2s\n",
      "[CV] END ...................max_features=7, n_estimators=180; total time=   0.2s\n",
      "[CV] END ...................max_features=7, n_estimators=180; total time=   0.2s\n",
      "[CV] END ....................max_features=5, n_estimators=15; total time=   0.0s\n",
      "[CV] END ....................max_features=5, n_estimators=15; total time=   0.0s\n",
      "[CV] END ....................max_features=5, n_estimators=15; total time=   0.0s\n",
      "[CV] END ....................max_features=5, n_estimators=15; total time=   0.0s\n",
      "[CV] END ....................max_features=5, n_estimators=15; total time=   0.0s\n",
      "[CV] END ....................max_features=3, n_estimators=72; total time=   0.0s\n",
      "[CV] END ....................max_features=3, n_estimators=72; total time=   0.0s\n",
      "[CV] END ....................max_features=3, n_estimators=72; total time=   0.0s\n",
      "[CV] END ....................max_features=3, n_estimators=72; total time=   0.0s\n",
      "[CV] END ....................max_features=3, n_estimators=72; total time=   0.0s\n",
      "[CV] END ....................max_features=5, n_estimators=21; total time=   0.0s\n",
      "[CV] END ....................max_features=5, n_estimators=21; total time=   0.0s\n",
      "[CV] END ....................max_features=5, n_estimators=21; total time=   0.0s\n",
      "[CV] END ....................max_features=5, n_estimators=21; total time=   0.0s\n",
      "[CV] END ....................max_features=5, n_estimators=21; total time=   0.0s\n",
      "[CV] END ...................max_features=7, n_estimators=122; total time=   0.2s\n",
      "[CV] END ...................max_features=7, n_estimators=122; total time=   0.1s\n",
      "[CV] END ...................max_features=7, n_estimators=122; total time=   0.1s\n",
      "[CV] END ...................max_features=7, n_estimators=122; total time=   0.1s\n",
      "[CV] END ...................max_features=7, n_estimators=122; total time=   0.1s\n",
      "[CV] END ....................max_features=3, n_estimators=75; total time=   0.0s\n",
      "[CV] END ....................max_features=3, n_estimators=75; total time=   0.0s\n",
      "[CV] END ....................max_features=3, n_estimators=75; total time=   0.0s\n",
      "[CV] END ....................max_features=3, n_estimators=75; total time=   0.0s\n",
      "[CV] END ....................max_features=3, n_estimators=75; total time=   0.0s\n",
      "[CV] END ....................max_features=3, n_estimators=88; total time=   0.0s\n",
      "[CV] END ....................max_features=3, n_estimators=88; total time=   0.0s\n",
      "[CV] END ....................max_features=3, n_estimators=88; total time=   0.1s\n",
      "[CV] END ....................max_features=3, n_estimators=88; total time=   0.0s\n",
      "[CV] END ....................max_features=3, n_estimators=88; total time=   0.0s\n",
      "[CV] END ...................max_features=5, n_estimators=100; total time=   0.1s\n",
      "[CV] END ...................max_features=5, n_estimators=100; total time=   0.1s\n",
      "[CV] END ...................max_features=5, n_estimators=100; total time=   0.1s\n",
      "[CV] END ...................max_features=5, n_estimators=100; total time=   0.1s\n",
      "[CV] END ...................max_features=5, n_estimators=100; total time=   0.1s\n",
      "[CV] END ...................max_features=3, n_estimators=150; total time=   0.1s\n",
      "[CV] END ...................max_features=3, n_estimators=150; total time=   0.1s\n",
      "[CV] END ...................max_features=3, n_estimators=150; total time=   0.1s\n",
      "[CV] END ...................max_features=3, n_estimators=150; total time=   0.1s\n",
      "[CV] END ...................max_features=3, n_estimators=150; total time=   0.1s\n",
      "[CV] END .....................max_features=5, n_estimators=2; total time=   0.0s\n",
      "[CV] END .....................max_features=5, n_estimators=2; total time=   0.0s\n",
      "[CV] END .....................max_features=5, n_estimators=2; total time=   0.0s\n",
      "[CV] END .....................max_features=5, n_estimators=2; total time=   0.0s\n",
      "[CV] END .....................max_features=5, n_estimators=2; total time=   0.0s\n",
      "[CV] END ...................max_features=4, n_estimators=158; total time=   0.1s\n",
      "[CV] END ...................max_features=4, n_estimators=158; total time=   0.2s\n",
      "[CV] END ...................max_features=4, n_estimators=158; total time=   0.1s\n",
      "[CV] END ...................max_features=4, n_estimators=158; total time=   0.1s\n",
      "[CV] END ...................max_features=4, n_estimators=158; total time=   0.1s\n",
      "[CV] END ...................max_features=6, n_estimators=130; total time=   0.1s\n",
      "[CV] END ...................max_features=6, n_estimators=130; total time=   0.1s\n",
      "[CV] END ...................max_features=6, n_estimators=130; total time=   0.1s\n",
      "[CV] END ...................max_features=6, n_estimators=130; total time=   0.1s\n",
      "[CV] END ...................max_features=6, n_estimators=130; total time=   0.1s\n",
      "[CV] END ....................max_features=4, n_estimators=21; total time=   0.0s\n",
      "[CV] END ....................max_features=4, n_estimators=21; total time=   0.0s\n",
      "[CV] END ....................max_features=4, n_estimators=21; total time=   0.0s\n",
      "[CV] END ....................max_features=4, n_estimators=21; total time=   0.0s\n",
      "[CV] END ....................max_features=4, n_estimators=21; total time=   0.0s\n",
      "[CV] END ....................max_features=1, n_estimators=58; total time=   0.0s\n",
      "[CV] END ....................max_features=1, n_estimators=58; total time=   0.0s\n",
      "[CV] END ....................max_features=1, n_estimators=58; total time=   0.0s\n",
      "[CV] END ....................max_features=1, n_estimators=58; total time=   0.0s\n",
      "[CV] END ....................max_features=1, n_estimators=58; total time=   0.0s\n",
      "[CV] END ....................max_features=6, n_estimators=89; total time=   0.1s\n",
      "[CV] END ....................max_features=6, n_estimators=89; total time=   0.1s\n",
      "[CV] END ....................max_features=6, n_estimators=89; total time=   0.1s\n",
      "[CV] END ....................max_features=6, n_estimators=89; total time=   0.0s\n",
      "[CV] END ....................max_features=6, n_estimators=89; total time=   0.1s\n",
      "[CV] END ....................max_features=1, n_estimators=59; total time=   0.0s\n",
      "[CV] END ....................max_features=1, n_estimators=59; total time=   0.0s\n",
      "[CV] END ....................max_features=1, n_estimators=59; total time=   0.0s\n",
      "[CV] END ....................max_features=1, n_estimators=59; total time=   0.0s\n",
      "[CV] END ....................max_features=1, n_estimators=59; total time=   0.0s\n",
      "[CV] END ...................max_features=7, n_estimators=170; total time=   0.2s\n",
      "[CV] END ...................max_features=7, n_estimators=170; total time=   0.2s\n",
      "[CV] END ...................max_features=7, n_estimators=170; total time=   0.2s\n",
      "[CV] END ...................max_features=7, n_estimators=170; total time=   0.2s\n",
      "[CV] END ...................max_features=7, n_estimators=170; total time=   0.2s\n",
      "[CV] END ...................max_features=4, n_estimators=188; total time=   0.2s\n",
      "[CV] END ...................max_features=4, n_estimators=188; total time=   0.2s\n",
      "[CV] END ...................max_features=4, n_estimators=188; total time=   0.2s\n",
      "[CV] END ...................max_features=4, n_estimators=188; total time=   0.2s\n",
      "[CV] END ...................max_features=4, n_estimators=188; total time=   0.2s\n",
      "[CV] END ...................max_features=7, n_estimators=190; total time=   0.2s\n",
      "[CV] END ...................max_features=7, n_estimators=190; total time=   0.2s\n",
      "[CV] END ...................max_features=7, n_estimators=190; total time=   0.2s\n",
      "[CV] END ...................max_features=7, n_estimators=190; total time=   0.2s\n",
      "[CV] END ...................max_features=7, n_estimators=190; total time=   0.2s\n",
      "[CV] END ...................max_features=6, n_estimators=175; total time=   0.2s\n",
      "[CV] END ...................max_features=6, n_estimators=175; total time=   0.2s\n",
      "[CV] END ...................max_features=6, n_estimators=175; total time=   0.2s\n",
      "[CV] END ...................max_features=6, n_estimators=175; total time=   0.2s\n",
      "[CV] END ...................max_features=6, n_estimators=175; total time=   0.2s\n",
      "[CV] END ....................max_features=6, n_estimators=51; total time=   0.0s\n",
      "[CV] END ....................max_features=6, n_estimators=51; total time=   0.0s\n"
     ]
    },
    {
     "name": "stdout",
     "output_type": "stream",
     "text": [
      "[CV] END ....................max_features=6, n_estimators=51; total time=   0.0s\n",
      "[CV] END ....................max_features=6, n_estimators=51; total time=   0.0s\n",
      "[CV] END ....................max_features=6, n_estimators=51; total time=   0.0s\n",
      "[CV] END ....................max_features=4, n_estimators=55; total time=   0.0s\n",
      "[CV] END ....................max_features=4, n_estimators=55; total time=   0.0s\n",
      "[CV] END ....................max_features=4, n_estimators=55; total time=   0.0s\n",
      "[CV] END ....................max_features=4, n_estimators=55; total time=   0.0s\n",
      "[CV] END ....................max_features=4, n_estimators=55; total time=   0.0s\n",
      "[CV] END ....................max_features=4, n_estimators=64; total time=   0.0s\n",
      "[CV] END ....................max_features=4, n_estimators=64; total time=   0.0s\n",
      "[CV] END ....................max_features=4, n_estimators=64; total time=   0.0s\n",
      "[CV] END ....................max_features=4, n_estimators=64; total time=   0.0s\n",
      "[CV] END ....................max_features=4, n_estimators=64; total time=   0.0s\n",
      "[CV] END ...................max_features=1, n_estimators=131; total time=   0.1s\n",
      "[CV] END ...................max_features=1, n_estimators=131; total time=   0.1s\n",
      "[CV] END ...................max_features=1, n_estimators=131; total time=   0.1s\n",
      "[CV] END ...................max_features=1, n_estimators=131; total time=   0.1s\n",
      "[CV] END ...................max_features=1, n_estimators=131; total time=   0.1s\n",
      "[CV] END ....................max_features=5, n_estimators=51; total time=   0.0s\n",
      "[CV] END ....................max_features=5, n_estimators=51; total time=   0.0s\n",
      "[CV] END ....................max_features=5, n_estimators=51; total time=   0.0s\n",
      "[CV] END ....................max_features=5, n_estimators=51; total time=   0.0s\n",
      "[CV] END ....................max_features=5, n_estimators=51; total time=   0.0s\n",
      "[CV] END ....................max_features=7, n_estimators=21; total time=   0.0s\n",
      "[CV] END ....................max_features=7, n_estimators=21; total time=   0.0s\n",
      "[CV] END ....................max_features=7, n_estimators=21; total time=   0.0s\n",
      "[CV] END ....................max_features=7, n_estimators=21; total time=   0.0s\n",
      "[CV] END ....................max_features=7, n_estimators=21; total time=   0.0s\n",
      "[CV] END ...................max_features=1, n_estimators=167; total time=   0.2s\n",
      "[CV] END ...................max_features=1, n_estimators=167; total time=   0.2s\n",
      "[CV] END ...................max_features=1, n_estimators=167; total time=   0.2s\n",
      "[CV] END ...................max_features=1, n_estimators=167; total time=   0.1s\n",
      "[CV] END ...................max_features=1, n_estimators=167; total time=   0.2s\n",
      "[CV] END ...................max_features=2, n_estimators=132; total time=   0.2s\n",
      "[CV] END ...................max_features=2, n_estimators=132; total time=   0.1s\n",
      "[CV] END ...................max_features=2, n_estimators=132; total time=   0.1s\n",
      "[CV] END ...................max_features=2, n_estimators=132; total time=   0.1s\n",
      "[CV] END ...................max_features=2, n_estimators=132; total time=   0.1s\n",
      "[CV] END ....................max_features=1, n_estimators=60; total time=   0.0s\n",
      "[CV] END ....................max_features=1, n_estimators=60; total time=   0.0s\n",
      "[CV] END ....................max_features=1, n_estimators=60; total time=   0.0s\n",
      "[CV] END ....................max_features=1, n_estimators=60; total time=   0.0s\n",
      "[CV] END ....................max_features=1, n_estimators=60; total time=   0.0s\n",
      "[CV] END .....................max_features=6, n_estimators=9; total time=   0.0s\n",
      "[CV] END .....................max_features=6, n_estimators=9; total time=   0.0s\n",
      "[CV] END .....................max_features=6, n_estimators=9; total time=   0.0s\n",
      "[CV] END .....................max_features=6, n_estimators=9; total time=   0.0s\n",
      "[CV] END .....................max_features=6, n_estimators=9; total time=   0.0s\n",
      "[CV] END ....................max_features=2, n_estimators=53; total time=   0.0s\n",
      "[CV] END ....................max_features=2, n_estimators=53; total time=   0.0s\n",
      "[CV] END ....................max_features=2, n_estimators=53; total time=   0.0s\n",
      "[CV] END ....................max_features=2, n_estimators=53; total time=   0.0s\n",
      "[CV] END ....................max_features=2, n_estimators=53; total time=   0.0s\n",
      "[CV] END ....................max_features=2, n_estimators=84; total time=   0.0s\n",
      "[CV] END ....................max_features=2, n_estimators=84; total time=   0.0s\n",
      "[CV] END ....................max_features=2, n_estimators=84; total time=   0.0s\n",
      "[CV] END ....................max_features=2, n_estimators=84; total time=   0.0s\n",
      "[CV] END ....................max_features=2, n_estimators=84; total time=   0.0s\n",
      "[CV] END ...................max_features=4, n_estimators=111; total time=   0.1s\n",
      "[CV] END ...................max_features=4, n_estimators=111; total time=   0.1s\n",
      "[CV] END ...................max_features=4, n_estimators=111; total time=   0.1s\n",
      "[CV] END ...................max_features=4, n_estimators=111; total time=   0.1s\n",
      "[CV] END ...................max_features=4, n_estimators=111; total time=   0.1s\n",
      "[CV] END ...................max_features=4, n_estimators=199; total time=   0.2s\n",
      "[CV] END ...................max_features=4, n_estimators=199; total time=   0.2s\n",
      "[CV] END ...................max_features=4, n_estimators=199; total time=   0.2s\n",
      "[CV] END ...................max_features=4, n_estimators=199; total time=   0.2s\n",
      "[CV] END ...................max_features=4, n_estimators=199; total time=   0.2s\n",
      "[CV] END .....................max_features=4, n_estimators=8; total time=   0.0s\n",
      "[CV] END .....................max_features=4, n_estimators=8; total time=   0.0s\n",
      "[CV] END .....................max_features=4, n_estimators=8; total time=   0.0s\n",
      "[CV] END .....................max_features=4, n_estimators=8; total time=   0.0s\n",
      "[CV] END .....................max_features=4, n_estimators=8; total time=   0.0s\n",
      "[CV] END ....................max_features=7, n_estimators=35; total time=   0.0s\n",
      "[CV] END ....................max_features=7, n_estimators=35; total time=   0.0s\n",
      "[CV] END ....................max_features=7, n_estimators=35; total time=   0.0s\n",
      "[CV] END ....................max_features=7, n_estimators=35; total time=   0.0s\n",
      "[CV] END ....................max_features=7, n_estimators=35; total time=   0.0s\n",
      "[CV] END ....................max_features=6, n_estimators=81; total time=   0.0s\n",
      "[CV] END ....................max_features=6, n_estimators=81; total time=   0.0s\n",
      "[CV] END ....................max_features=6, n_estimators=81; total time=   0.0s\n",
      "[CV] END ....................max_features=6, n_estimators=81; total time=   0.0s\n",
      "[CV] END ....................max_features=6, n_estimators=81; total time=   0.0s\n",
      "[CV] END ....................max_features=4, n_estimators=50; total time=   0.0s\n",
      "[CV] END ....................max_features=4, n_estimators=50; total time=   0.0s\n",
      "[CV] END ....................max_features=4, n_estimators=50; total time=   0.0s\n",
      "[CV] END ....................max_features=4, n_estimators=50; total time=   0.0s\n",
      "[CV] END ....................max_features=4, n_estimators=50; total time=   0.0s\n",
      "[CV] END .....................max_features=4, n_estimators=2; total time=   0.0s\n",
      "[CV] END .....................max_features=4, n_estimators=2; total time=   0.0s\n",
      "[CV] END .....................max_features=4, n_estimators=2; total time=   0.0s\n",
      "[CV] END .....................max_features=4, n_estimators=2; total time=   0.0s\n",
      "[CV] END .....................max_features=4, n_estimators=2; total time=   0.0s\n",
      "[CV] END ...................max_features=6, n_estimators=134; total time=   0.1s\n",
      "[CV] END ...................max_features=6, n_estimators=134; total time=   0.1s\n",
      "[CV] END ...................max_features=6, n_estimators=134; total time=   0.1s\n",
      "[CV] END ...................max_features=6, n_estimators=134; total time=   0.1s\n",
      "[CV] END ...................max_features=6, n_estimators=134; total time=   0.1s\n",
      "[CV] END ...................max_features=6, n_estimators=106; total time=   0.1s\n",
      "[CV] END ...................max_features=6, n_estimators=106; total time=   0.1s\n",
      "[CV] END ...................max_features=6, n_estimators=106; total time=   0.1s\n",
      "[CV] END ...................max_features=6, n_estimators=106; total time=   0.1s\n",
      "[CV] END ...................max_features=6, n_estimators=106; total time=   0.1s\n"
     ]
    },
    {
     "name": "stdout",
     "output_type": "stream",
     "text": [
      "[CV] END ....................max_features=4, n_estimators=54; total time=   0.0s\n",
      "[CV] END ....................max_features=4, n_estimators=54; total time=   0.0s\n",
      "[CV] END ....................max_features=4, n_estimators=54; total time=   0.0s\n",
      "[CV] END ....................max_features=4, n_estimators=54; total time=   0.0s\n",
      "[CV] END ....................max_features=4, n_estimators=54; total time=   0.0s\n",
      "[CV] END ...................max_features=5, n_estimators=191; total time=   0.2s\n",
      "[CV] END ...................max_features=5, n_estimators=191; total time=   0.2s\n",
      "[CV] END ...................max_features=5, n_estimators=191; total time=   0.2s\n",
      "[CV] END ...................max_features=5, n_estimators=191; total time=   0.3s\n",
      "[CV] END ...................max_features=5, n_estimators=191; total time=   0.2s\n",
      "[CV] END ....................max_features=2, n_estimators=44; total time=   0.0s\n",
      "[CV] END ....................max_features=2, n_estimators=44; total time=   0.0s\n",
      "[CV] END ....................max_features=2, n_estimators=44; total time=   0.0s\n",
      "[CV] END ....................max_features=2, n_estimators=44; total time=   0.0s\n",
      "[CV] END ....................max_features=2, n_estimators=44; total time=   0.0s\n",
      "[CV] END ...................max_features=2, n_estimators=190; total time=   0.2s\n",
      "[CV] END ...................max_features=2, n_estimators=190; total time=   0.2s\n",
      "[CV] END ...................max_features=2, n_estimators=190; total time=   0.2s\n",
      "[CV] END ...................max_features=2, n_estimators=190; total time=   0.2s\n",
      "[CV] END ...................max_features=2, n_estimators=190; total time=   0.2s\n",
      "[CV] END ....................max_features=4, n_estimators=14; total time=   0.0s\n",
      "[CV] END ....................max_features=4, n_estimators=14; total time=   0.0s\n",
      "[CV] END ....................max_features=4, n_estimators=14; total time=   0.0s\n",
      "[CV] END ....................max_features=4, n_estimators=14; total time=   0.0s\n",
      "[CV] END ....................max_features=4, n_estimators=14; total time=   0.0s\n",
      "[CV] END ....................max_features=7, n_estimators=48; total time=   0.0s\n",
      "[CV] END ....................max_features=7, n_estimators=48; total time=   0.0s\n",
      "[CV] END ....................max_features=7, n_estimators=48; total time=   0.0s\n",
      "[CV] END ....................max_features=7, n_estimators=48; total time=   0.0s\n",
      "[CV] END ....................max_features=7, n_estimators=48; total time=   0.0s\n",
      "[CV] END ...................max_features=7, n_estimators=190; total time=   0.2s\n",
      "[CV] END ...................max_features=7, n_estimators=190; total time=   0.2s\n",
      "[CV] END ...................max_features=7, n_estimators=190; total time=   0.2s\n",
      "[CV] END ...................max_features=7, n_estimators=190; total time=   0.2s\n",
      "[CV] END ...................max_features=7, n_estimators=190; total time=   0.2s\n",
      "[CV] END ....................max_features=5, n_estimators=82; total time=   0.0s\n",
      "[CV] END ....................max_features=5, n_estimators=82; total time=   0.0s\n",
      "[CV] END ....................max_features=5, n_estimators=82; total time=   0.1s\n",
      "[CV] END ....................max_features=5, n_estimators=82; total time=   0.0s\n",
      "[CV] END ....................max_features=5, n_estimators=82; total time=   0.0s\n",
      "[CV] END ....................max_features=7, n_estimators=53; total time=   0.0s\n",
      "[CV] END ....................max_features=7, n_estimators=53; total time=   0.0s\n",
      "[CV] END ....................max_features=7, n_estimators=53; total time=   0.0s\n",
      "[CV] END ....................max_features=7, n_estimators=53; total time=   0.0s\n",
      "[CV] END ....................max_features=7, n_estimators=53; total time=   0.0s\n"
     ]
    },
    {
     "data": {
      "text/plain": [
       "RandomizedSearchCV(cv=5, estimator=RandomForestRegressor(random_state=42),\n",
       "                   n_iter=50,\n",
       "                   param_distributions={'max_features': <scipy.stats._distn_infrastructure.rv_frozen object at 0x000001E2FDC79548>,\n",
       "                                        'n_estimators': <scipy.stats._distn_infrastructure.rv_frozen object at 0x000001E2FDC79C88>},\n",
       "                   random_state=42, scoring='neg_mean_squared_error',\n",
       "                   verbose=2)"
      ]
     },
     "execution_count": 74,
     "metadata": {},
     "output_type": "execute_result"
    }
   ],
   "source": [
    "from sklearn.model_selection import RandomizedSearchCV\n",
    "from scipy.stats import randint\n",
    "\n",
    "param_distribs_forest = {\n",
    "        'n_estimators': randint(low=1, high=200),\n",
    "        'max_features': randint(low=1, high=8),\n",
    "    }\n",
    "\n",
    "forest_reg = RandomForestRegressor(random_state=42)\n",
    "rnd_search_forest = RandomizedSearchCV(forest_reg, param_distributions=param_distribs_forest,\n",
    "                                n_iter=50, cv=5, scoring='neg_mean_squared_error', random_state=42, verbose = 2)\n",
    "rnd_search_forest.fit(strat_train_prepared, strat_train_labels)"
   ]
  },
  {
   "cell_type": "code",
   "execution_count": 75,
   "metadata": {},
   "outputs": [
    {
     "name": "stdout",
     "output_type": "stream",
     "text": [
      "{'max_features': 7, 'n_estimators': 21}\n",
      "RandomForestRegressor(max_features=7, n_estimators=21, random_state=42)\n",
      "Best Score: 597118.7263403998\n"
     ]
    }
   ],
   "source": [
    "print(rnd_search_forest.best_params_)\n",
    "print(rnd_search_forest.best_estimator_)\n",
    "print(\"Best Score: {0}\".format(np.sqrt(-rnd_search_forest.best_score_)))"
   ]
  },
  {
   "cell_type": "code",
   "execution_count": 76,
   "metadata": {},
   "outputs": [
    {
     "name": "stdout",
     "output_type": "stream",
     "text": [
      "610493.9513835558 {'max_features': 7, 'n_estimators': 180}\n",
      "635846.5777701759 {'max_features': 5, 'n_estimators': 15}\n",
      "660612.0421488424 {'max_features': 3, 'n_estimators': 72}\n",
      "625845.665329867 {'max_features': 5, 'n_estimators': 21}\n",
      "612291.9698166979 {'max_features': 7, 'n_estimators': 122}\n",
      "658861.4752989073 {'max_features': 3, 'n_estimators': 75}\n",
      "662880.8092722378 {'max_features': 3, 'n_estimators': 88}\n",
      "617954.6412901207 {'max_features': 5, 'n_estimators': 100}\n",
      "676708.6448309913 {'max_features': 3, 'n_estimators': 150}\n",
      "821358.4860454007 {'max_features': 5, 'n_estimators': 2}\n",
      "630477.0112112766 {'max_features': 4, 'n_estimators': 158}\n",
      "608521.6767186042 {'max_features': 6, 'n_estimators': 130}\n",
      "683867.454348174 {'max_features': 4, 'n_estimators': 21}\n",
      "753624.5518343959 {'max_features': 1, 'n_estimators': 58}\n",
      "610471.190043131 {'max_features': 6, 'n_estimators': 89}\n",
      "752090.2838143584 {'max_features': 1, 'n_estimators': 59}\n",
      "610883.8846923917 {'max_features': 7, 'n_estimators': 170}\n",
      "633375.2712327996 {'max_features': 4, 'n_estimators': 188}\n",
      "610033.0479658064 {'max_features': 7, 'n_estimators': 190}\n",
      "602840.4537116167 {'max_features': 6, 'n_estimators': 175}\n",
      "619294.3582248472 {'max_features': 6, 'n_estimators': 51}\n",
      "662504.3900861265 {'max_features': 4, 'n_estimators': 55}\n",
      "652137.9456852161 {'max_features': 4, 'n_estimators': 64}\n",
      "759370.9243409667 {'max_features': 1, 'n_estimators': 131}\n",
      "623393.8495292813 {'max_features': 5, 'n_estimators': 51}\n",
      "597118.7263403998 {'max_features': 7, 'n_estimators': 21}\n",
      "754891.8460108119 {'max_features': 1, 'n_estimators': 167}\n",
      "699517.4188078663 {'max_features': 2, 'n_estimators': 132}\n",
      "750622.6019135988 {'max_features': 1, 'n_estimators': 60}\n",
      "633109.9804751861 {'max_features': 6, 'n_estimators': 9}\n",
      "693686.1615956285 {'max_features': 2, 'n_estimators': 53}\n",
      "701875.9414950482 {'max_features': 2, 'n_estimators': 84}\n",
      "644119.6711154016 {'max_features': 4, 'n_estimators': 111}\n",
      "633211.0339004478 {'max_features': 4, 'n_estimators': 199}\n",
      "761659.5252996475 {'max_features': 4, 'n_estimators': 8}\n",
      "616147.2872917922 {'max_features': 7, 'n_estimators': 35}\n",
      "615545.8735622513 {'max_features': 6, 'n_estimators': 81}\n",
      "670385.0045558381 {'max_features': 4, 'n_estimators': 50}\n",
      "942380.0705636134 {'max_features': 4, 'n_estimators': 2}\n",
      "607835.9372417682 {'max_features': 6, 'n_estimators': 134}\n",
      "613049.042362548 {'max_features': 6, 'n_estimators': 106}\n",
      "662021.2574382758 {'max_features': 4, 'n_estimators': 54}\n",
      "623361.0852998864 {'max_features': 5, 'n_estimators': 191}\n",
      "692901.2835784758 {'max_features': 2, 'n_estimators': 44}\n",
      "709948.8331611144 {'max_features': 2, 'n_estimators': 190}\n",
      "693880.4216316831 {'max_features': 4, 'n_estimators': 14}\n",
      "604048.6240450131 {'max_features': 7, 'n_estimators': 48}\n",
      "610033.0479658064 {'max_features': 7, 'n_estimators': 190}\n",
      "612538.3926289965 {'max_features': 5, 'n_estimators': 82}\n",
      "606737.2220400722 {'max_features': 7, 'n_estimators': 53}\n"
     ]
    }
   ],
   "source": [
    "cvres = rnd_search_forest.cv_results_\n",
    "for mean_score, params in zip(cvres[\"mean_test_score\"], cvres[\"params\"]):\n",
    "    print(np.sqrt(-mean_score), params)"
   ]
  },
  {
   "cell_type": "code",
   "execution_count": 77,
   "metadata": {},
   "outputs": [
    {
     "data": {
      "text/plain": [
       "array([5.23431251e-03, 1.00603291e-02, 1.68633872e-02, 2.13808485e-02,\n",
       "       6.76107968e-02, 6.38264885e-02, 2.49877518e-02, 9.21014169e-03,\n",
       "       3.26564885e-03, 2.04495366e-01, 9.50977845e-02, 1.19120986e-01,\n",
       "       9.48402398e-02, 1.32009193e-01, 7.24589401e-02, 1.42026009e-02,\n",
       "       2.80186135e-03, 7.29832784e-05, 1.34630723e-04, 3.74522089e-03,\n",
       "       1.69770121e-04, 2.04113363e-03, 8.93689189e-03, 2.99551829e-05,\n",
       "       2.09308651e-04, 1.15190870e-03, 3.52623002e-03, 1.23741583e-04,\n",
       "       5.04298572e-04, 1.25105258e-03, 1.09505390e-04, 5.48412427e-04,\n",
       "       1.13768737e-04, 2.40634230e-03, 7.32983672e-04, 1.01596988e-04,\n",
       "       8.45591087e-04, 3.52851870e-04, 6.38705169e-06, 1.51127286e-04,\n",
       "       6.98000754e-05, 4.89402304e-03, 4.41842861e-04, 4.39502577e-05,\n",
       "       6.39710321e-05, 2.01593904e-04, 8.77352422e-04, 4.57336877e-03,\n",
       "       2.28891061e-03, 1.37489539e-03, 2.33119113e-04, 9.98174208e-07,\n",
       "       2.03804318e-04])"
      ]
     },
     "execution_count": 77,
     "metadata": {},
     "output_type": "execute_result"
    }
   ],
   "source": [
    "feature_importances = rnd_search_forest.best_estimator_.feature_importances_\n",
    "feature_importances"
   ]
  },
  {
   "cell_type": "code",
   "execution_count": 78,
   "metadata": {},
   "outputs": [
    {
     "data": {
      "text/plain": [
       "[(0.2044953659872032, '2020 Total Value'),\n",
       " (0.13200919337561481, '2019 Land Value'),\n",
       " (0.11912098644625593, '2020 Buildings Value'),\n",
       " (0.0950977844539251, '2020 Land Value'),\n",
       " (0.09484023980010282, '2019 Total Value'),\n",
       " (0.07245894011662099, '2019 Buildings Value'),\n",
       " (0.06761079677858357, 'Tot Baths'),\n",
       " (0.06382648852754028, 'TotFlArea'),\n",
       " (0.024987751760874616, 'Age'),\n",
       " (0.02138084845121098, 'Tot BR'),\n",
       " (0.016863387249508748, 'DOM'),\n",
       " (0.014202600944366863, 'Interest Rate'),\n",
       " (0.010060329106629047, 'Longitude'),\n",
       " (0.009210141690632024, 'Frontage - Feet'),\n",
       " (0.008936891888287111, 'S/A: VWVCB'),\n",
       " (0.005234312512722461, 'Latitude'),\n",
       " (0.0048940230404315825, 'S/A: VWVWB'),\n",
       " (0.0045733687720541875, 'TypeDwel: HOUSE'),\n",
       " (0.003745220888916812, 'S/A: VWVBP'),\n",
       " (0.0035262300151536483, 'S/A: VWVCW'),\n",
       " (0.0032656488524369577, '#Kitchens'),\n",
       " (0.0028018613525735915, 'Season'),\n",
       " (0.0024063423030515653, 'S/A: VWVHB'),\n",
       " (0.002288910607650492, 'TypeDwel: MANUF'),\n",
       " (0.002041133630494995, 'S/A: VWVCA'),\n",
       " (0.0013748953915524987, 'Showing Appts: Phone L.R. First'),\n",
       " (0.001251052581109446, 'S/A: VWVEH'),\n",
       " (0.0011519086994186106, 'S/A: VWVCP'),\n",
       " (0.0008773524220642798, 'TypeDwel: HACR'),\n",
       " (0.0008455910868730587, 'S/A: VWVPR'),\n",
       " (0.0007329836715856654, 'S/A: VWVHS'),\n",
       " (0.0005484124271000786, 'S/A: VWVGL'),\n",
       " (0.0005042985716377192, 'S/A: VWVDU'),\n",
       " (0.0004418428606209694, 'S/A: VWVWC'),\n",
       " (0.00035285187032294506, 'S/A: VWVQU'),\n",
       " (0.0002331191125460949, 'Showing Appts: Phone Other'),\n",
       " (0.00020930865109046579, 'S/A: VWVCE'),\n",
       " (0.00020380431807215792, 'Showing Appts: Touchbase'),\n",
       " (0.0002015939035105185, 'S/A: VWVWM'),\n",
       " (0.00016977012145188126, 'S/A: VWVBR'),\n",
       " (0.00015112728584062467, 'S/A: VWVSH'),\n",
       " (0.0001346307228166569, 'S/A: VWVAM'),\n",
       " (0.00012374158312883203, 'S/A: VWVCY'),\n",
       " (0.00011376873674327029, 'S/A: VWVGM'),\n",
       " (0.00010950538954010996, 'S/A: VWVER'),\n",
       " (0.00010159698766495317, 'S/A: VWVOC'),\n",
       " (7.29832784115438e-05, 'S/A: VWVAL'),\n",
       " (6.980007539748483e-05, 'S/A: VWVUC'),\n",
       " (6.397103214084772e-05, 'S/A: VWVWH'),\n",
       " (4.395025769146386e-05, 'S/A: VWVWE'),\n",
       " (2.9955182930147572e-05, 'S/A: VWVCD'),\n",
       " (6.387051687361008e-06, 'S/A: VWVRR'),\n",
       " (9.981742079870254e-07, 'Showing Appts: Phone Seller First')]"
      ]
     },
     "execution_count": 78,
     "metadata": {},
     "output_type": "execute_result"
    }
   ],
   "source": [
    "sorted(zip(feature_importances, attributes), reverse = True)"
   ]
  },
  {
   "cell_type": "markdown",
   "metadata": {},
   "source": [
    "### 3.2.3 Grid Search with SVR"
   ]
  },
  {
   "cell_type": "code",
   "execution_count": 79,
   "metadata": {},
   "outputs": [
    {
     "name": "stdout",
     "output_type": "stream",
     "text": [
      "Fitting 5 folds for each of 50 candidates, totalling 250 fits\n",
      "[CV] END ..............................C=10.0, kernel=linear; total time=   0.0s\n",
      "[CV] END ..............................C=10.0, kernel=linear; total time=   0.0s\n",
      "[CV] END ..............................C=10.0, kernel=linear; total time=   0.0s\n",
      "[CV] END ..............................C=10.0, kernel=linear; total time=   0.0s\n",
      "[CV] END ..............................C=10.0, kernel=linear; total time=   0.0s\n",
      "[CV] END ..............................C=30.0, kernel=linear; total time=   0.0s\n",
      "[CV] END ..............................C=30.0, kernel=linear; total time=   0.0s\n",
      "[CV] END ..............................C=30.0, kernel=linear; total time=   0.0s\n",
      "[CV] END ..............................C=30.0, kernel=linear; total time=   0.0s\n",
      "[CV] END ..............................C=30.0, kernel=linear; total time=   0.0s\n",
      "[CV] END .............................C=100.0, kernel=linear; total time=   0.0s\n",
      "[CV] END .............................C=100.0, kernel=linear; total time=   0.0s\n",
      "[CV] END .............................C=100.0, kernel=linear; total time=   0.0s\n",
      "[CV] END .............................C=100.0, kernel=linear; total time=   0.0s\n",
      "[CV] END .............................C=100.0, kernel=linear; total time=   0.0s\n",
      "[CV] END .............................C=300.0, kernel=linear; total time=   0.0s\n",
      "[CV] END .............................C=300.0, kernel=linear; total time=   0.0s\n",
      "[CV] END .............................C=300.0, kernel=linear; total time=   0.0s\n",
      "[CV] END .............................C=300.0, kernel=linear; total time=   0.0s\n",
      "[CV] END .............................C=300.0, kernel=linear; total time=   0.0s\n",
      "[CV] END ............................C=1000.0, kernel=linear; total time=   0.0s\n",
      "[CV] END ............................C=1000.0, kernel=linear; total time=   0.0s\n",
      "[CV] END ............................C=1000.0, kernel=linear; total time=   0.0s\n",
      "[CV] END ............................C=1000.0, kernel=linear; total time=   0.0s\n",
      "[CV] END ............................C=1000.0, kernel=linear; total time=   0.0s\n",
      "[CV] END ............................C=3000.0, kernel=linear; total time=   0.0s\n",
      "[CV] END ............................C=3000.0, kernel=linear; total time=   0.0s\n",
      "[CV] END ............................C=3000.0, kernel=linear; total time=   0.0s\n",
      "[CV] END ............................C=3000.0, kernel=linear; total time=   0.0s\n",
      "[CV] END ............................C=3000.0, kernel=linear; total time=   0.0s\n",
      "[CV] END ...........................C=10000.0, kernel=linear; total time=   0.0s\n",
      "[CV] END ...........................C=10000.0, kernel=linear; total time=   0.0s\n",
      "[CV] END ...........................C=10000.0, kernel=linear; total time=   0.0s\n",
      "[CV] END ...........................C=10000.0, kernel=linear; total time=   0.0s\n",
      "[CV] END ...........................C=10000.0, kernel=linear; total time=   0.0s\n",
      "[CV] END ...........................C=30000.0, kernel=linear; total time=   0.0s\n",
      "[CV] END ...........................C=30000.0, kernel=linear; total time=   0.0s\n",
      "[CV] END ...........................C=30000.0, kernel=linear; total time=   0.0s\n",
      "[CV] END ...........................C=30000.0, kernel=linear; total time=   0.0s\n",
      "[CV] END ...........................C=30000.0, kernel=linear; total time=   0.0s\n",
      "[CV] END ......................C=1.0, gamma=0.01, kernel=rbf; total time=   0.0s\n",
      "[CV] END ......................C=1.0, gamma=0.01, kernel=rbf; total time=   0.0s\n",
      "[CV] END ......................C=1.0, gamma=0.01, kernel=rbf; total time=   0.0s\n",
      "[CV] END ......................C=1.0, gamma=0.01, kernel=rbf; total time=   0.0s\n",
      "[CV] END ......................C=1.0, gamma=0.01, kernel=rbf; total time=   0.0s\n",
      "[CV] END ......................C=1.0, gamma=0.03, kernel=rbf; total time=   0.0s\n",
      "[CV] END ......................C=1.0, gamma=0.03, kernel=rbf; total time=   0.0s\n",
      "[CV] END ......................C=1.0, gamma=0.03, kernel=rbf; total time=   0.0s\n",
      "[CV] END ......................C=1.0, gamma=0.03, kernel=rbf; total time=   0.0s\n",
      "[CV] END ......................C=1.0, gamma=0.03, kernel=rbf; total time=   0.0s\n",
      "[CV] END .......................C=1.0, gamma=0.1, kernel=rbf; total time=   0.0s\n",
      "[CV] END .......................C=1.0, gamma=0.1, kernel=rbf; total time=   0.0s\n",
      "[CV] END .......................C=1.0, gamma=0.1, kernel=rbf; total time=   0.0s\n",
      "[CV] END .......................C=1.0, gamma=0.1, kernel=rbf; total time=   0.0s\n",
      "[CV] END .......................C=1.0, gamma=0.1, kernel=rbf; total time=   0.0s\n",
      "[CV] END .......................C=1.0, gamma=0.3, kernel=rbf; total time=   0.0s\n",
      "[CV] END .......................C=1.0, gamma=0.3, kernel=rbf; total time=   0.0s\n",
      "[CV] END .......................C=1.0, gamma=0.3, kernel=rbf; total time=   0.0s\n",
      "[CV] END .......................C=1.0, gamma=0.3, kernel=rbf; total time=   0.0s\n",
      "[CV] END .......................C=1.0, gamma=0.3, kernel=rbf; total time=   0.0s\n",
      "[CV] END .......................C=1.0, gamma=1.0, kernel=rbf; total time=   0.0s\n",
      "[CV] END .......................C=1.0, gamma=1.0, kernel=rbf; total time=   0.0s\n",
      "[CV] END .......................C=1.0, gamma=1.0, kernel=rbf; total time=   0.0s\n",
      "[CV] END .......................C=1.0, gamma=1.0, kernel=rbf; total time=   0.0s\n",
      "[CV] END .......................C=1.0, gamma=1.0, kernel=rbf; total time=   0.0s\n",
      "[CV] END .......................C=1.0, gamma=3.0, kernel=rbf; total time=   0.0s\n",
      "[CV] END .......................C=1.0, gamma=3.0, kernel=rbf; total time=   0.0s\n",
      "[CV] END .......................C=1.0, gamma=3.0, kernel=rbf; total time=   0.0s\n",
      "[CV] END .......................C=1.0, gamma=3.0, kernel=rbf; total time=   0.0s\n",
      "[CV] END .......................C=1.0, gamma=3.0, kernel=rbf; total time=   0.0s\n",
      "[CV] END ......................C=3.0, gamma=0.01, kernel=rbf; total time=   0.0s\n",
      "[CV] END ......................C=3.0, gamma=0.01, kernel=rbf; total time=   0.0s\n",
      "[CV] END ......................C=3.0, gamma=0.01, kernel=rbf; total time=   0.0s\n",
      "[CV] END ......................C=3.0, gamma=0.01, kernel=rbf; total time=   0.0s\n",
      "[CV] END ......................C=3.0, gamma=0.01, kernel=rbf; total time=   0.0s\n",
      "[CV] END ......................C=3.0, gamma=0.03, kernel=rbf; total time=   0.0s\n",
      "[CV] END ......................C=3.0, gamma=0.03, kernel=rbf; total time=   0.0s\n",
      "[CV] END ......................C=3.0, gamma=0.03, kernel=rbf; total time=   0.0s\n",
      "[CV] END ......................C=3.0, gamma=0.03, kernel=rbf; total time=   0.0s\n",
      "[CV] END ......................C=3.0, gamma=0.03, kernel=rbf; total time=   0.0s\n",
      "[CV] END .......................C=3.0, gamma=0.1, kernel=rbf; total time=   0.0s\n",
      "[CV] END .......................C=3.0, gamma=0.1, kernel=rbf; total time=   0.0s\n",
      "[CV] END .......................C=3.0, gamma=0.1, kernel=rbf; total time=   0.0s\n",
      "[CV] END .......................C=3.0, gamma=0.1, kernel=rbf; total time=   0.0s\n",
      "[CV] END .......................C=3.0, gamma=0.1, kernel=rbf; total time=   0.0s\n",
      "[CV] END .......................C=3.0, gamma=0.3, kernel=rbf; total time=   0.0s\n",
      "[CV] END .......................C=3.0, gamma=0.3, kernel=rbf; total time=   0.0s\n",
      "[CV] END .......................C=3.0, gamma=0.3, kernel=rbf; total time=   0.0s\n",
      "[CV] END .......................C=3.0, gamma=0.3, kernel=rbf; total time=   0.0s\n",
      "[CV] END .......................C=3.0, gamma=0.3, kernel=rbf; total time=   0.0s\n",
      "[CV] END .......................C=3.0, gamma=1.0, kernel=rbf; total time=   0.0s\n",
      "[CV] END .......................C=3.0, gamma=1.0, kernel=rbf; total time=   0.0s\n",
      "[CV] END .......................C=3.0, gamma=1.0, kernel=rbf; total time=   0.0s\n",
      "[CV] END .......................C=3.0, gamma=1.0, kernel=rbf; total time=   0.0s\n",
      "[CV] END .......................C=3.0, gamma=1.0, kernel=rbf; total time=   0.0s\n",
      "[CV] END .......................C=3.0, gamma=3.0, kernel=rbf; total time=   0.0s\n",
      "[CV] END .......................C=3.0, gamma=3.0, kernel=rbf; total time=   0.0s\n",
      "[CV] END .......................C=3.0, gamma=3.0, kernel=rbf; total time=   0.0s\n",
      "[CV] END .......................C=3.0, gamma=3.0, kernel=rbf; total time=   0.0s\n",
      "[CV] END .......................C=3.0, gamma=3.0, kernel=rbf; total time=   0.0s\n",
      "[CV] END .....................C=10.0, gamma=0.01, kernel=rbf; total time=   0.0s\n",
      "[CV] END .....................C=10.0, gamma=0.01, kernel=rbf; total time=   0.0s\n"
     ]
    },
    {
     "name": "stdout",
     "output_type": "stream",
     "text": [
      "[CV] END .....................C=10.0, gamma=0.01, kernel=rbf; total time=   0.0s\n",
      "[CV] END .....................C=10.0, gamma=0.01, kernel=rbf; total time=   0.0s\n",
      "[CV] END .....................C=10.0, gamma=0.01, kernel=rbf; total time=   0.0s\n",
      "[CV] END .....................C=10.0, gamma=0.03, kernel=rbf; total time=   0.0s\n",
      "[CV] END .....................C=10.0, gamma=0.03, kernel=rbf; total time=   0.0s\n",
      "[CV] END .....................C=10.0, gamma=0.03, kernel=rbf; total time=   0.0s\n",
      "[CV] END .....................C=10.0, gamma=0.03, kernel=rbf; total time=   0.0s\n",
      "[CV] END .....................C=10.0, gamma=0.03, kernel=rbf; total time=   0.0s\n",
      "[CV] END ......................C=10.0, gamma=0.1, kernel=rbf; total time=   0.0s\n",
      "[CV] END ......................C=10.0, gamma=0.1, kernel=rbf; total time=   0.0s\n",
      "[CV] END ......................C=10.0, gamma=0.1, kernel=rbf; total time=   0.0s\n",
      "[CV] END ......................C=10.0, gamma=0.1, kernel=rbf; total time=   0.0s\n",
      "[CV] END ......................C=10.0, gamma=0.1, kernel=rbf; total time=   0.0s\n",
      "[CV] END ......................C=10.0, gamma=0.3, kernel=rbf; total time=   0.0s\n",
      "[CV] END ......................C=10.0, gamma=0.3, kernel=rbf; total time=   0.0s\n",
      "[CV] END ......................C=10.0, gamma=0.3, kernel=rbf; total time=   0.0s\n",
      "[CV] END ......................C=10.0, gamma=0.3, kernel=rbf; total time=   0.0s\n",
      "[CV] END ......................C=10.0, gamma=0.3, kernel=rbf; total time=   0.0s\n",
      "[CV] END ......................C=10.0, gamma=1.0, kernel=rbf; total time=   0.0s\n",
      "[CV] END ......................C=10.0, gamma=1.0, kernel=rbf; total time=   0.0s\n",
      "[CV] END ......................C=10.0, gamma=1.0, kernel=rbf; total time=   0.0s\n",
      "[CV] END ......................C=10.0, gamma=1.0, kernel=rbf; total time=   0.0s\n",
      "[CV] END ......................C=10.0, gamma=1.0, kernel=rbf; total time=   0.0s\n",
      "[CV] END ......................C=10.0, gamma=3.0, kernel=rbf; total time=   0.0s\n",
      "[CV] END ......................C=10.0, gamma=3.0, kernel=rbf; total time=   0.0s\n",
      "[CV] END ......................C=10.0, gamma=3.0, kernel=rbf; total time=   0.0s\n",
      "[CV] END ......................C=10.0, gamma=3.0, kernel=rbf; total time=   0.0s\n",
      "[CV] END ......................C=10.0, gamma=3.0, kernel=rbf; total time=   0.0s\n",
      "[CV] END .....................C=30.0, gamma=0.01, kernel=rbf; total time=   0.0s\n",
      "[CV] END .....................C=30.0, gamma=0.01, kernel=rbf; total time=   0.0s\n",
      "[CV] END .....................C=30.0, gamma=0.01, kernel=rbf; total time=   0.0s\n",
      "[CV] END .....................C=30.0, gamma=0.01, kernel=rbf; total time=   0.0s\n",
      "[CV] END .....................C=30.0, gamma=0.01, kernel=rbf; total time=   0.0s\n",
      "[CV] END .....................C=30.0, gamma=0.03, kernel=rbf; total time=   0.0s\n",
      "[CV] END .....................C=30.0, gamma=0.03, kernel=rbf; total time=   0.0s\n",
      "[CV] END .....................C=30.0, gamma=0.03, kernel=rbf; total time=   0.0s\n",
      "[CV] END .....................C=30.0, gamma=0.03, kernel=rbf; total time=   0.0s\n",
      "[CV] END .....................C=30.0, gamma=0.03, kernel=rbf; total time=   0.0s\n",
      "[CV] END ......................C=30.0, gamma=0.1, kernel=rbf; total time=   0.0s\n",
      "[CV] END ......................C=30.0, gamma=0.1, kernel=rbf; total time=   0.0s\n",
      "[CV] END ......................C=30.0, gamma=0.1, kernel=rbf; total time=   0.0s\n",
      "[CV] END ......................C=30.0, gamma=0.1, kernel=rbf; total time=   0.0s\n",
      "[CV] END ......................C=30.0, gamma=0.1, kernel=rbf; total time=   0.0s\n",
      "[CV] END ......................C=30.0, gamma=0.3, kernel=rbf; total time=   0.0s\n",
      "[CV] END ......................C=30.0, gamma=0.3, kernel=rbf; total time=   0.0s\n",
      "[CV] END ......................C=30.0, gamma=0.3, kernel=rbf; total time=   0.0s\n",
      "[CV] END ......................C=30.0, gamma=0.3, kernel=rbf; total time=   0.0s\n",
      "[CV] END ......................C=30.0, gamma=0.3, kernel=rbf; total time=   0.0s\n",
      "[CV] END ......................C=30.0, gamma=1.0, kernel=rbf; total time=   0.0s\n",
      "[CV] END ......................C=30.0, gamma=1.0, kernel=rbf; total time=   0.0s\n",
      "[CV] END ......................C=30.0, gamma=1.0, kernel=rbf; total time=   0.0s\n",
      "[CV] END ......................C=30.0, gamma=1.0, kernel=rbf; total time=   0.0s\n",
      "[CV] END ......................C=30.0, gamma=1.0, kernel=rbf; total time=   0.0s\n",
      "[CV] END ......................C=30.0, gamma=3.0, kernel=rbf; total time=   0.0s\n",
      "[CV] END ......................C=30.0, gamma=3.0, kernel=rbf; total time=   0.0s\n",
      "[CV] END ......................C=30.0, gamma=3.0, kernel=rbf; total time=   0.0s\n",
      "[CV] END ......................C=30.0, gamma=3.0, kernel=rbf; total time=   0.0s\n",
      "[CV] END ......................C=30.0, gamma=3.0, kernel=rbf; total time=   0.0s\n",
      "[CV] END ....................C=100.0, gamma=0.01, kernel=rbf; total time=   0.0s\n",
      "[CV] END ....................C=100.0, gamma=0.01, kernel=rbf; total time=   0.0s\n",
      "[CV] END ....................C=100.0, gamma=0.01, kernel=rbf; total time=   0.0s\n",
      "[CV] END ....................C=100.0, gamma=0.01, kernel=rbf; total time=   0.0s\n",
      "[CV] END ....................C=100.0, gamma=0.01, kernel=rbf; total time=   0.0s\n",
      "[CV] END ....................C=100.0, gamma=0.03, kernel=rbf; total time=   0.0s\n",
      "[CV] END ....................C=100.0, gamma=0.03, kernel=rbf; total time=   0.0s\n",
      "[CV] END ....................C=100.0, gamma=0.03, kernel=rbf; total time=   0.0s\n",
      "[CV] END ....................C=100.0, gamma=0.03, kernel=rbf; total time=   0.0s\n",
      "[CV] END ....................C=100.0, gamma=0.03, kernel=rbf; total time=   0.0s\n",
      "[CV] END .....................C=100.0, gamma=0.1, kernel=rbf; total time=   0.0s\n",
      "[CV] END .....................C=100.0, gamma=0.1, kernel=rbf; total time=   0.0s\n",
      "[CV] END .....................C=100.0, gamma=0.1, kernel=rbf; total time=   0.0s\n",
      "[CV] END .....................C=100.0, gamma=0.1, kernel=rbf; total time=   0.0s\n",
      "[CV] END .....................C=100.0, gamma=0.1, kernel=rbf; total time=   0.0s\n",
      "[CV] END .....................C=100.0, gamma=0.3, kernel=rbf; total time=   0.0s\n",
      "[CV] END .....................C=100.0, gamma=0.3, kernel=rbf; total time=   0.0s\n",
      "[CV] END .....................C=100.0, gamma=0.3, kernel=rbf; total time=   0.0s\n",
      "[CV] END .....................C=100.0, gamma=0.3, kernel=rbf; total time=   0.0s\n",
      "[CV] END .....................C=100.0, gamma=0.3, kernel=rbf; total time=   0.0s\n",
      "[CV] END .....................C=100.0, gamma=1.0, kernel=rbf; total time=   0.0s\n",
      "[CV] END .....................C=100.0, gamma=1.0, kernel=rbf; total time=   0.0s\n",
      "[CV] END .....................C=100.0, gamma=1.0, kernel=rbf; total time=   0.0s\n",
      "[CV] END .....................C=100.0, gamma=1.0, kernel=rbf; total time=   0.0s\n",
      "[CV] END .....................C=100.0, gamma=1.0, kernel=rbf; total time=   0.0s\n",
      "[CV] END .....................C=100.0, gamma=3.0, kernel=rbf; total time=   0.0s\n",
      "[CV] END .....................C=100.0, gamma=3.0, kernel=rbf; total time=   0.0s\n",
      "[CV] END .....................C=100.0, gamma=3.0, kernel=rbf; total time=   0.0s\n",
      "[CV] END .....................C=100.0, gamma=3.0, kernel=rbf; total time=   0.0s\n",
      "[CV] END .....................C=100.0, gamma=3.0, kernel=rbf; total time=   0.0s\n",
      "[CV] END ....................C=300.0, gamma=0.01, kernel=rbf; total time=   0.0s\n",
      "[CV] END ....................C=300.0, gamma=0.01, kernel=rbf; total time=   0.0s\n",
      "[CV] END ....................C=300.0, gamma=0.01, kernel=rbf; total time=   0.0s\n",
      "[CV] END ....................C=300.0, gamma=0.01, kernel=rbf; total time=   0.0s\n",
      "[CV] END ....................C=300.0, gamma=0.01, kernel=rbf; total time=   0.0s\n",
      "[CV] END ....................C=300.0, gamma=0.03, kernel=rbf; total time=   0.0s\n",
      "[CV] END ....................C=300.0, gamma=0.03, kernel=rbf; total time=   0.0s\n",
      "[CV] END ....................C=300.0, gamma=0.03, kernel=rbf; total time=   0.0s\n",
      "[CV] END ....................C=300.0, gamma=0.03, kernel=rbf; total time=   0.0s\n",
      "[CV] END ....................C=300.0, gamma=0.03, kernel=rbf; total time=   0.0s\n",
      "[CV] END .....................C=300.0, gamma=0.1, kernel=rbf; total time=   0.0s\n",
      "[CV] END .....................C=300.0, gamma=0.1, kernel=rbf; total time=   0.0s\n",
      "[CV] END .....................C=300.0, gamma=0.1, kernel=rbf; total time=   0.0s\n",
      "[CV] END .....................C=300.0, gamma=0.1, kernel=rbf; total time=   0.0s\n",
      "[CV] END .....................C=300.0, gamma=0.1, kernel=rbf; total time=   0.0s\n",
      "[CV] END .....................C=300.0, gamma=0.3, kernel=rbf; total time=   0.0s\n"
     ]
    },
    {
     "name": "stdout",
     "output_type": "stream",
     "text": [
      "[CV] END .....................C=300.0, gamma=0.3, kernel=rbf; total time=   0.0s\n",
      "[CV] END .....................C=300.0, gamma=0.3, kernel=rbf; total time=   0.0s\n",
      "[CV] END .....................C=300.0, gamma=0.3, kernel=rbf; total time=   0.0s\n",
      "[CV] END .....................C=300.0, gamma=0.3, kernel=rbf; total time=   0.0s\n",
      "[CV] END .....................C=300.0, gamma=1.0, kernel=rbf; total time=   0.0s\n",
      "[CV] END .....................C=300.0, gamma=1.0, kernel=rbf; total time=   0.0s\n",
      "[CV] END .....................C=300.0, gamma=1.0, kernel=rbf; total time=   0.0s\n",
      "[CV] END .....................C=300.0, gamma=1.0, kernel=rbf; total time=   0.0s\n",
      "[CV] END .....................C=300.0, gamma=1.0, kernel=rbf; total time=   0.0s\n",
      "[CV] END .....................C=300.0, gamma=3.0, kernel=rbf; total time=   0.0s\n",
      "[CV] END .....................C=300.0, gamma=3.0, kernel=rbf; total time=   0.0s\n",
      "[CV] END .....................C=300.0, gamma=3.0, kernel=rbf; total time=   0.0s\n",
      "[CV] END .....................C=300.0, gamma=3.0, kernel=rbf; total time=   0.0s\n",
      "[CV] END .....................C=300.0, gamma=3.0, kernel=rbf; total time=   0.0s\n",
      "[CV] END ...................C=1000.0, gamma=0.01, kernel=rbf; total time=   0.0s\n",
      "[CV] END ...................C=1000.0, gamma=0.01, kernel=rbf; total time=   0.0s\n",
      "[CV] END ...................C=1000.0, gamma=0.01, kernel=rbf; total time=   0.0s\n",
      "[CV] END ...................C=1000.0, gamma=0.01, kernel=rbf; total time=   0.0s\n",
      "[CV] END ...................C=1000.0, gamma=0.01, kernel=rbf; total time=   0.0s\n",
      "[CV] END ...................C=1000.0, gamma=0.03, kernel=rbf; total time=   0.0s\n",
      "[CV] END ...................C=1000.0, gamma=0.03, kernel=rbf; total time=   0.0s\n",
      "[CV] END ...................C=1000.0, gamma=0.03, kernel=rbf; total time=   0.0s\n",
      "[CV] END ...................C=1000.0, gamma=0.03, kernel=rbf; total time=   0.0s\n",
      "[CV] END ...................C=1000.0, gamma=0.03, kernel=rbf; total time=   0.0s\n",
      "[CV] END ....................C=1000.0, gamma=0.1, kernel=rbf; total time=   0.0s\n",
      "[CV] END ....................C=1000.0, gamma=0.1, kernel=rbf; total time=   0.0s\n",
      "[CV] END ....................C=1000.0, gamma=0.1, kernel=rbf; total time=   0.0s\n",
      "[CV] END ....................C=1000.0, gamma=0.1, kernel=rbf; total time=   0.0s\n",
      "[CV] END ....................C=1000.0, gamma=0.1, kernel=rbf; total time=   0.0s\n",
      "[CV] END ....................C=1000.0, gamma=0.3, kernel=rbf; total time=   0.0s\n",
      "[CV] END ....................C=1000.0, gamma=0.3, kernel=rbf; total time=   0.0s\n",
      "[CV] END ....................C=1000.0, gamma=0.3, kernel=rbf; total time=   0.0s\n",
      "[CV] END ....................C=1000.0, gamma=0.3, kernel=rbf; total time=   0.0s\n",
      "[CV] END ....................C=1000.0, gamma=0.3, kernel=rbf; total time=   0.0s\n",
      "[CV] END ....................C=1000.0, gamma=1.0, kernel=rbf; total time=   0.0s\n",
      "[CV] END ....................C=1000.0, gamma=1.0, kernel=rbf; total time=   0.0s\n",
      "[CV] END ....................C=1000.0, gamma=1.0, kernel=rbf; total time=   0.0s\n",
      "[CV] END ....................C=1000.0, gamma=1.0, kernel=rbf; total time=   0.0s\n",
      "[CV] END ....................C=1000.0, gamma=1.0, kernel=rbf; total time=   0.0s\n",
      "[CV] END ....................C=1000.0, gamma=3.0, kernel=rbf; total time=   0.0s\n",
      "[CV] END ....................C=1000.0, gamma=3.0, kernel=rbf; total time=   0.0s\n",
      "[CV] END ....................C=1000.0, gamma=3.0, kernel=rbf; total time=   0.0s\n",
      "[CV] END ....................C=1000.0, gamma=3.0, kernel=rbf; total time=   0.0s\n",
      "[CV] END ....................C=1000.0, gamma=3.0, kernel=rbf; total time=   0.0s\n"
     ]
    },
    {
     "data": {
      "text/plain": [
       "GridSearchCV(cv=5, estimator=SVR(),\n",
       "             param_grid=[{'C': [10.0, 30.0, 100.0, 300.0, 1000.0, 3000.0,\n",
       "                                10000.0, 30000.0],\n",
       "                          'kernel': ['linear']},\n",
       "                         {'C': [1.0, 3.0, 10.0, 30.0, 100.0, 300.0, 1000.0],\n",
       "                          'gamma': [0.01, 0.03, 0.1, 0.3, 1.0, 3.0],\n",
       "                          'kernel': ['rbf']}],\n",
       "             scoring='neg_mean_squared_error', verbose=2)"
      ]
     },
     "execution_count": 79,
     "metadata": {},
     "output_type": "execute_result"
    }
   ],
   "source": [
    "param_grid_svr = [\n",
    "        {'kernel': ['linear'], 'C': [10., 30., 100., 300., 1000., 3000., 10000., 30000.0]},\n",
    "        {'kernel': ['rbf'], 'C': [1.0, 3.0, 10., 30., 100., 300., 1000.0],\n",
    "         'gamma': [0.01, 0.03, 0.1, 0.3, 1.0, 3.0]},\n",
    "    ]\n",
    "svm_reg = SVR()\n",
    "grid_search_svr = GridSearchCV(svm_reg, param_grid_svr, cv=5,\n",
    "                           scoring='neg_mean_squared_error',\n",
    "                           verbose = 2) \n",
    "\n",
    "grid_search_svr.fit(strat_train_prepared, strat_train_labels)"
   ]
  },
  {
   "cell_type": "code",
   "execution_count": 80,
   "metadata": {},
   "outputs": [
    {
     "name": "stdout",
     "output_type": "stream",
     "text": [
      "{'C': 30000.0, 'kernel': 'linear'}\n",
      "SVR(C=30000.0, kernel='linear')\n",
      "Best Score: 603296.7599865013\n"
     ]
    }
   ],
   "source": [
    "print(grid_search_svr.best_params_)\n",
    "print(grid_search_svr.best_estimator_)\n",
    "print(\"Best Score: {0}\".format(np.sqrt(-grid_search_svr.best_score_)))"
   ]
  },
  {
   "cell_type": "code",
   "execution_count": 81,
   "metadata": {},
   "outputs": [
    {
     "name": "stdout",
     "output_type": "stream",
     "text": [
      "1793499.78408896 {'C': 10.0, 'kernel': 'linear'}\n",
      "1765421.1956663218 {'C': 30.0, 'kernel': 'linear'}\n",
      "1674471.4634736108 {'C': 100.0, 'kernel': 'linear'}\n",
      "1418665.2338340327 {'C': 300.0, 'kernel': 'linear'}\n",
      "902798.2349069767 {'C': 1000.0, 'kernel': 'linear'}\n",
      "695040.4594470321 {'C': 3000.0, 'kernel': 'linear'}\n",
      "625301.4135437836 {'C': 10000.0, 'kernel': 'linear'}\n",
      "603296.7599865013 {'C': 30000.0, 'kernel': 'linear'}\n",
      "1807776.4770630375 {'C': 1.0, 'gamma': 0.01, 'kernel': 'rbf'}\n",
      "1807773.337576398 {'C': 1.0, 'gamma': 0.03, 'kernel': 'rbf'}\n",
      "1807783.6837041117 {'C': 1.0, 'gamma': 0.1, 'kernel': 'rbf'}\n",
      "1807790.8486750093 {'C': 1.0, 'gamma': 0.3, 'kernel': 'rbf'}\n",
      "1807791.6115472065 {'C': 1.0, 'gamma': 1.0, 'kernel': 'rbf'}\n",
      "1807791.6288915463 {'C': 1.0, 'gamma': 3.0, 'kernel': 'rbf'}\n",
      "1807746.0986627382 {'C': 3.0, 'gamma': 0.01, 'kernel': 'rbf'}\n",
      "1807736.680441969 {'C': 3.0, 'gamma': 0.03, 'kernel': 'rbf'}\n",
      "1807767.708481518 {'C': 3.0, 'gamma': 0.1, 'kernel': 'rbf'}\n",
      "1807789.22537678 {'C': 3.0, 'gamma': 0.3, 'kernel': 'rbf'}\n",
      "1807791.5033083626 {'C': 3.0, 'gamma': 1.0, 'kernel': 'rbf'}\n",
      "1807791.5553404605 {'C': 3.0, 'gamma': 3.0, 'kernel': 'rbf'}\n",
      "1807639.7764933603 {'C': 10.0, 'gamma': 0.01, 'kernel': 'rbf'}\n",
      "1807608.3852145008 {'C': 10.0, 'gamma': 0.03, 'kernel': 'rbf'}\n",
      "1807711.796872382 {'C': 10.0, 'gamma': 0.1, 'kernel': 'rbf'}\n",
      "1807783.5469868917 {'C': 10.0, 'gamma': 0.3, 'kernel': 'rbf'}\n",
      "1807791.1244739892 {'C': 10.0, 'gamma': 1.0, 'kernel': 'rbf'}\n",
      "1807791.2979138403 {'C': 10.0, 'gamma': 3.0, 'kernel': 'rbf'}\n",
      "1807336.0179998258 {'C': 30.0, 'gamma': 0.01, 'kernel': 'rbf'}\n",
      "1807241.8680882573 {'C': 30.0, 'gamma': 0.03, 'kernel': 'rbf'}\n",
      "1807552.0637333205 {'C': 30.0, 'gamma': 0.1, 'kernel': 'rbf'}\n",
      "1807767.3235855205 {'C': 30.0, 'gamma': 0.3, 'kernel': 'rbf'}\n",
      "1807790.0421091346 {'C': 30.0, 'gamma': 1.0, 'kernel': 'rbf'}\n",
      "1807790.5624279457 {'C': 30.0, 'gamma': 3.0, 'kernel': 'rbf'}\n",
      "1806273.086675864 {'C': 100.0, 'gamma': 0.01, 'kernel': 'rbf'}\n",
      "1805959.5330561071 {'C': 100.0, 'gamma': 0.03, 'kernel': 'rbf'}\n",
      "1806993.1648336903 {'C': 100.0, 'gamma': 0.1, 'kernel': 'rbf'}\n",
      "1807710.548330388 {'C': 100.0, 'gamma': 0.3, 'kernel': 'rbf'}\n",
      "1807786.2540600547 {'C': 100.0, 'gamma': 1.0, 'kernel': 'rbf'}\n",
      "1807787.9884458636 {'C': 100.0, 'gamma': 3.0, 'kernel': 'rbf'}\n",
      "1803286.1056040183 {'C': 300.0, 'gamma': 0.01, 'kernel': 'rbf'}\n",
      "1802422.613156121 {'C': 300.0, 'gamma': 0.03, 'kernel': 'rbf'}\n",
      "1805419.758598961 {'C': 300.0, 'gamma': 0.1, 'kernel': 'rbf'}\n",
      "1807548.3903198622 {'C': 300.0, 'gamma': 0.3, 'kernel': 'rbf'}\n",
      "1807775.4330027988 {'C': 300.0, 'gamma': 1.0, 'kernel': 'rbf'}\n",
      "1807780.6360846646 {'C': 300.0, 'gamma': 3.0, 'kernel': 'rbf'}\n",
      "1793222.490328638 {'C': 1000.0, 'gamma': 0.01, 'kernel': 'rbf'}\n",
      "1790503.8884536268 {'C': 1000.0, 'gamma': 0.03, 'kernel': 'rbf'}\n",
      "1800328.8389124705 {'C': 1000.0, 'gamma': 0.1, 'kernel': 'rbf'}\n",
      "1806981.502620363 {'C': 1000.0, 'gamma': 0.3, 'kernel': 'rbf'}\n",
      "1807737.5819463904 {'C': 1000.0, 'gamma': 1.0, 'kernel': 'rbf'}\n",
      "1807754.9246762833 {'C': 1000.0, 'gamma': 3.0, 'kernel': 'rbf'}\n"
     ]
    }
   ],
   "source": [
    "cvres = grid_search_svr.cv_results_\n",
    "for mean_score, params in zip(cvres[\"mean_test_score\"], cvres[\"params\"]):\n",
    "    print(np.sqrt(-mean_score), params)"
   ]
  },
  {
   "cell_type": "markdown",
   "metadata": {},
   "source": [
    "### 3.2.4 Randomized Search with SVR"
   ]
  },
  {
   "cell_type": "code",
   "execution_count": 82,
   "metadata": {},
   "outputs": [
    {
     "name": "stdout",
     "output_type": "stream",
     "text": [
      "Fitting 5 folds for each of 50 candidates, totalling 250 fits\n",
      "[CV] END C=629.782329591372, gamma=3.010121430917521, kernel=linear; total time=   0.0s\n",
      "[CV] END C=629.782329591372, gamma=3.010121430917521, kernel=linear; total time=   0.0s\n",
      "[CV] END C=629.782329591372, gamma=3.010121430917521, kernel=linear; total time=   0.0s\n",
      "[CV] END C=629.782329591372, gamma=3.010121430917521, kernel=linear; total time=   0.0s\n",
      "[CV] END C=629.782329591372, gamma=3.010121430917521, kernel=linear; total time=   0.0s\n",
      "[CV] END C=26290.206464300216, gamma=0.9084469696321253, kernel=rbf; total time=   0.0s\n",
      "[CV] END C=26290.206464300216, gamma=0.9084469696321253, kernel=rbf; total time=   0.0s\n",
      "[CV] END C=26290.206464300216, gamma=0.9084469696321253, kernel=rbf; total time=   0.0s\n",
      "[CV] END C=26290.206464300216, gamma=0.9084469696321253, kernel=rbf; total time=   0.0s\n",
      "[CV] END C=26290.206464300216, gamma=0.9084469696321253, kernel=rbf; total time=   0.0s\n",
      "[CV] END C=84.14107900575871, gamma=0.059838768608680676, kernel=rbf; total time=   0.0s\n",
      "[CV] END C=84.14107900575871, gamma=0.059838768608680676, kernel=rbf; total time=   0.0s\n",
      "[CV] END C=84.14107900575871, gamma=0.059838768608680676, kernel=rbf; total time=   0.0s\n",
      "[CV] END C=84.14107900575871, gamma=0.059838768608680676, kernel=rbf; total time=   0.0s\n",
      "[CV] END C=84.14107900575871, gamma=0.059838768608680676, kernel=rbf; total time=   0.0s\n",
      "[CV] END C=432.37884813148855, gamma=0.15416196746656105, kernel=linear; total time=   0.0s\n",
      "[CV] END C=432.37884813148855, gamma=0.15416196746656105, kernel=linear; total time=   0.0s\n",
      "[CV] END C=432.37884813148855, gamma=0.15416196746656105, kernel=linear; total time=   0.0s\n",
      "[CV] END C=432.37884813148855, gamma=0.15416196746656105, kernel=linear; total time=   0.0s\n",
      "[CV] END C=432.37884813148855, gamma=0.15416196746656105, kernel=linear; total time=   0.0s\n",
      "[CV] END C=24.17508294611391, gamma=3.503557475158312, kernel=rbf; total time=   0.0s\n",
      "[CV] END C=24.17508294611391, gamma=3.503557475158312, kernel=rbf; total time=   0.0s\n",
      "[CV] END C=24.17508294611391, gamma=3.503557475158312, kernel=rbf; total time=   0.0s\n",
      "[CV] END C=24.17508294611391, gamma=3.503557475158312, kernel=rbf; total time=   0.0s\n",
      "[CV] END C=24.17508294611391, gamma=3.503557475158312, kernel=rbf; total time=   0.0s\n",
      "[CV] END C=113564.03940586245, gamma=0.0007790692366582295, kernel=rbf; total time=   0.0s\n",
      "[CV] END C=113564.03940586245, gamma=0.0007790692366582295, kernel=rbf; total time=   0.0s\n",
      "[CV] END C=113564.03940586245, gamma=0.0007790692366582295, kernel=rbf; total time=   0.0s\n",
      "[CV] END C=113564.03940586245, gamma=0.0007790692366582295, kernel=rbf; total time=   0.0s\n",
      "[CV] END C=113564.03940586245, gamma=0.0007790692366582295, kernel=rbf; total time=   0.0s\n",
      "[CV] END C=108.30488238805073, gamma=0.3627537294604771, kernel=rbf; total time=   0.0s\n",
      "[CV] END C=108.30488238805073, gamma=0.3627537294604771, kernel=rbf; total time=   0.0s\n",
      "[CV] END C=108.30488238805073, gamma=0.3627537294604771, kernel=rbf; total time=   0.0s\n",
      "[CV] END C=108.30488238805073, gamma=0.3627537294604771, kernel=rbf; total time=   0.0s\n",
      "[CV] END C=108.30488238805073, gamma=0.3627537294604771, kernel=rbf; total time=   0.0s\n",
      "[CV] END C=21.344953672647435, gamma=0.023332523598323388, kernel=linear; total time=   0.0s\n",
      "[CV] END C=21.344953672647435, gamma=0.023332523598323388, kernel=linear; total time=   0.0s\n",
      "[CV] END C=21.344953672647435, gamma=0.023332523598323388, kernel=linear; total time=   0.0s\n",
      "[CV] END C=21.344953672647435, gamma=0.023332523598323388, kernel=linear; total time=   0.0s\n",
      "[CV] END C=21.344953672647435, gamma=0.023332523598323388, kernel=linear; total time=   0.0s\n",
      "[CV] END C=5603.270317432516, gamma=0.15023452872733867, kernel=rbf; total time=   0.0s\n",
      "[CV] END C=5603.270317432516, gamma=0.15023452872733867, kernel=rbf; total time=   0.0s\n",
      "[CV] END C=5603.270317432516, gamma=0.15023452872733867, kernel=rbf; total time=   0.0s\n",
      "[CV] END C=5603.270317432516, gamma=0.15023452872733867, kernel=rbf; total time=   0.0s\n",
      "[CV] END C=5603.270317432516, gamma=0.15023452872733867, kernel=rbf; total time=   0.0s\n",
      "[CV] END C=157055.10989448498, gamma=0.26497040005002437, kernel=rbf; total time=   0.0s\n",
      "[CV] END C=157055.10989448498, gamma=0.26497040005002437, kernel=rbf; total time=   0.0s\n",
      "[CV] END C=157055.10989448498, gamma=0.26497040005002437, kernel=rbf; total time=   0.0s\n",
      "[CV] END C=157055.10989448498, gamma=0.26497040005002437, kernel=rbf; total time=   0.0s\n",
      "[CV] END C=157055.10989448498, gamma=0.26497040005002437, kernel=rbf; total time=   0.0s\n",
      "[CV] END C=27652.464358739708, gamma=0.2227358621286903, kernel=linear; total time=   0.0s\n",
      "[CV] END C=27652.464358739708, gamma=0.2227358621286903, kernel=linear; total time=   0.0s\n",
      "[CV] END C=27652.464358739708, gamma=0.2227358621286903, kernel=linear; total time=   0.0s\n",
      "[CV] END C=27652.464358739708, gamma=0.2227358621286903, kernel=linear; total time=   0.0s\n",
      "[CV] END C=27652.464358739708, gamma=0.2227358621286903, kernel=linear; total time=   0.0s\n",
      "[CV] END C=171377.39570378003, gamma=0.628789100540856, kernel=linear; total time=   0.0s\n",
      "[CV] END C=171377.39570378003, gamma=0.628789100540856, kernel=linear; total time=   0.0s\n",
      "[CV] END C=171377.39570378003, gamma=0.628789100540856, kernel=linear; total time=   0.0s\n",
      "[CV] END C=171377.39570378003, gamma=0.628789100540856, kernel=linear; total time=   0.0s\n",
      "[CV] END C=171377.39570378003, gamma=0.628789100540856, kernel=linear; total time=   0.0s\n",
      "[CV] END C=5385.293820172355, gamma=0.18696125197741642, kernel=linear; total time=   0.0s\n",
      "[CV] END C=5385.293820172355, gamma=0.18696125197741642, kernel=linear; total time=   0.0s\n",
      "[CV] END C=5385.293820172355, gamma=0.18696125197741642, kernel=linear; total time=   0.0s\n",
      "[CV] END C=5385.293820172355, gamma=0.18696125197741642, kernel=linear; total time=   0.0s\n",
      "[CV] END C=5385.293820172355, gamma=0.18696125197741642, kernel=linear; total time=   0.0s\n",
      "[CV] END C=22.59903216621323, gamma=2.850796878935603, kernel=rbf; total time=   0.0s\n",
      "[CV] END C=22.59903216621323, gamma=2.850796878935603, kernel=rbf; total time=   0.0s\n",
      "[CV] END C=22.59903216621323, gamma=2.850796878935603, kernel=rbf; total time=   0.0s\n",
      "[CV] END C=22.59903216621323, gamma=2.850796878935603, kernel=rbf; total time=   0.0s\n",
      "[CV] END C=22.59903216621323, gamma=2.850796878935603, kernel=rbf; total time=   0.0s\n",
      "[CV] END C=34246.75194632794, gamma=0.3632878599687583, kernel=linear; total time=   0.0s\n",
      "[CV] END C=34246.75194632794, gamma=0.3632878599687583, kernel=linear; total time=   0.0s\n",
      "[CV] END C=34246.75194632794, gamma=0.3632878599687583, kernel=linear; total time=   0.0s\n",
      "[CV] END C=34246.75194632794, gamma=0.3632878599687583, kernel=linear; total time=   0.0s\n",
      "[CV] END C=34246.75194632794, gamma=0.3632878599687583, kernel=linear; total time=   0.0s\n",
      "[CV] END C=167.7278956080511, gamma=0.2757870542258224, kernel=rbf; total time=   0.0s\n",
      "[CV] END C=167.7278956080511, gamma=0.2757870542258224, kernel=rbf; total time=   0.0s\n",
      "[CV] END C=167.7278956080511, gamma=0.2757870542258224, kernel=rbf; total time=   0.0s\n",
      "[CV] END C=167.7278956080511, gamma=0.2757870542258224, kernel=rbf; total time=   0.0s\n",
      "[CV] END C=167.7278956080511, gamma=0.2757870542258224, kernel=rbf; total time=   0.0s\n",
      "[CV] END C=61.54360542501371, gamma=0.6835472281341501, kernel=linear; total time=   0.0s\n",
      "[CV] END C=61.54360542501371, gamma=0.6835472281341501, kernel=linear; total time=   0.0s\n",
      "[CV] END C=61.54360542501371, gamma=0.6835472281341501, kernel=linear; total time=   0.0s\n",
      "[CV] END C=61.54360542501371, gamma=0.6835472281341501, kernel=linear; total time=   0.0s\n",
      "[CV] END C=61.54360542501371, gamma=0.6835472281341501, kernel=linear; total time=   0.0s\n",
      "[CV] END C=98.73897389920914, gamma=0.4960365360493639, kernel=rbf; total time=   0.0s\n",
      "[CV] END C=98.73897389920914, gamma=0.4960365360493639, kernel=rbf; total time=   0.0s\n",
      "[CV] END C=98.73897389920914, gamma=0.4960365360493639, kernel=rbf; total time=   0.0s\n",
      "[CV] END C=98.73897389920914, gamma=0.4960365360493639, kernel=rbf; total time=   0.0s\n",
      "[CV] END C=98.73897389920914, gamma=0.4960365360493639, kernel=rbf; total time=   0.0s\n",
      "[CV] END C=8935.505635947808, gamma=0.37354658165762367, kernel=rbf; total time=   0.0s\n",
      "[CV] END C=8935.505635947808, gamma=0.37354658165762367, kernel=rbf; total time=   0.0s\n"
     ]
    },
    {
     "name": "stdout",
     "output_type": "stream",
     "text": [
      "[CV] END C=8935.505635947808, gamma=0.37354658165762367, kernel=rbf; total time=   0.0s\n",
      "[CV] END C=8935.505635947808, gamma=0.37354658165762367, kernel=rbf; total time=   0.0s\n",
      "[CV] END C=8935.505635947808, gamma=0.37354658165762367, kernel=rbf; total time=   0.0s\n",
      "[CV] END C=135.76775824842434, gamma=0.838636245624803, kernel=linear; total time=   0.0s\n",
      "[CV] END C=135.76775824842434, gamma=0.838636245624803, kernel=linear; total time=   0.0s\n",
      "[CV] END C=135.76775824842434, gamma=0.838636245624803, kernel=linear; total time=   0.0s\n",
      "[CV] END C=135.76775824842434, gamma=0.838636245624803, kernel=linear; total time=   0.0s\n",
      "[CV] END C=135.76775824842434, gamma=0.838636245624803, kernel=linear; total time=   0.0s\n",
      "[CV] END C=151136.20282548846, gamma=1.4922453771381408, kernel=rbf; total time=   0.0s\n",
      "[CV] END C=151136.20282548846, gamma=1.4922453771381408, kernel=rbf; total time=   0.0s\n",
      "[CV] END C=151136.20282548846, gamma=1.4922453771381408, kernel=rbf; total time=   0.0s\n",
      "[CV] END C=151136.20282548846, gamma=1.4922453771381408, kernel=rbf; total time=   0.0s\n",
      "[CV] END C=151136.20282548846, gamma=1.4922453771381408, kernel=rbf; total time=   0.0s\n",
      "[CV] END C=761.4316758498783, gamma=2.6126336514161914, kernel=linear; total time=   0.0s\n",
      "[CV] END C=761.4316758498783, gamma=2.6126336514161914, kernel=linear; total time=   0.0s\n",
      "[CV] END C=761.4316758498783, gamma=2.6126336514161914, kernel=linear; total time=   0.0s\n",
      "[CV] END C=761.4316758498783, gamma=2.6126336514161914, kernel=linear; total time=   0.0s\n",
      "[CV] END C=761.4316758498783, gamma=2.6126336514161914, kernel=linear; total time=   0.0s\n",
      "[CV] END C=97392.81883041795, gamma=0.09265545895311562, kernel=linear; total time=   0.0s\n",
      "[CV] END C=97392.81883041795, gamma=0.09265545895311562, kernel=linear; total time=   0.0s\n",
      "[CV] END C=97392.81883041795, gamma=0.09265545895311562, kernel=linear; total time=   0.0s\n",
      "[CV] END C=97392.81883041795, gamma=0.09265545895311562, kernel=linear; total time=   0.0s\n",
      "[CV] END C=97392.81883041795, gamma=0.09265545895311562, kernel=linear; total time=   0.0s\n",
      "[CV] END C=2423.0759984939164, gamma=3.248614270240346, kernel=linear; total time=   0.0s\n",
      "[CV] END C=2423.0759984939164, gamma=3.248614270240346, kernel=linear; total time=   0.0s\n",
      "[CV] END C=2423.0759984939164, gamma=3.248614270240346, kernel=linear; total time=   0.0s\n",
      "[CV] END C=2423.0759984939164, gamma=3.248614270240346, kernel=linear; total time=   0.0s\n",
      "[CV] END C=2423.0759984939164, gamma=3.248614270240346, kernel=linear; total time=   0.0s\n",
      "[CV] END C=717.3632997255095, gamma=0.3165604432088257, kernel=linear; total time=   0.0s\n",
      "[CV] END C=717.3632997255095, gamma=0.3165604432088257, kernel=linear; total time=   0.0s\n",
      "[CV] END C=717.3632997255095, gamma=0.3165604432088257, kernel=linear; total time=   0.0s\n",
      "[CV] END C=717.3632997255095, gamma=0.3165604432088257, kernel=linear; total time=   0.0s\n",
      "[CV] END C=717.3632997255095, gamma=0.3165604432088257, kernel=linear; total time=   0.0s\n",
      "[CV] END C=4446.667521184072, gamma=3.3597284456608496, kernel=rbf; total time=   0.0s\n",
      "[CV] END C=4446.667521184072, gamma=3.3597284456608496, kernel=rbf; total time=   0.0s\n",
      "[CV] END C=4446.667521184072, gamma=3.3597284456608496, kernel=rbf; total time=   0.0s\n",
      "[CV] END C=4446.667521184072, gamma=3.3597284456608496, kernel=rbf; total time=   0.0s\n",
      "[CV] END C=4446.667521184072, gamma=3.3597284456608496, kernel=rbf; total time=   0.0s\n",
      "[CV] END C=2963.564121207815, gamma=0.15189814782062885, kernel=linear; total time=   0.0s\n",
      "[CV] END C=2963.564121207815, gamma=0.15189814782062885, kernel=linear; total time=   0.0s\n",
      "[CV] END C=2963.564121207815, gamma=0.15189814782062885, kernel=linear; total time=   0.0s\n",
      "[CV] END C=2963.564121207815, gamma=0.15189814782062885, kernel=linear; total time=   0.0s\n",
      "[CV] END C=2963.564121207815, gamma=0.15189814782062885, kernel=linear; total time=   0.0s\n",
      "[CV] END C=91.64267381686706, gamma=0.01575994483585621, kernel=linear; total time=   0.0s\n",
      "[CV] END C=91.64267381686706, gamma=0.01575994483585621, kernel=linear; total time=   0.0s\n",
      "[CV] END C=91.64267381686706, gamma=0.01575994483585621, kernel=linear; total time=   0.0s\n",
      "[CV] END C=91.64267381686706, gamma=0.01575994483585621, kernel=linear; total time=   0.0s\n",
      "[CV] END C=91.64267381686706, gamma=0.01575994483585621, kernel=linear; total time=   0.0s\n",
      "[CV] END C=24547.601975705915, gamma=0.22153944050588595, kernel=rbf; total time=   0.0s\n",
      "[CV] END C=24547.601975705915, gamma=0.22153944050588595, kernel=rbf; total time=   0.0s\n",
      "[CV] END C=24547.601975705915, gamma=0.22153944050588595, kernel=rbf; total time=   0.0s\n",
      "[CV] END C=24547.601975705915, gamma=0.22153944050588595, kernel=rbf; total time=   0.0s\n",
      "[CV] END C=24547.601975705915, gamma=0.22153944050588595, kernel=rbf; total time=   0.0s\n",
      "[CV] END C=22.76927941060928, gamma=0.22169760231351215, kernel=rbf; total time=   0.0s\n",
      "[CV] END C=22.76927941060928, gamma=0.22169760231351215, kernel=rbf; total time=   0.0s\n",
      "[CV] END C=22.76927941060928, gamma=0.22169760231351215, kernel=rbf; total time=   0.0s\n",
      "[CV] END C=22.76927941060928, gamma=0.22169760231351215, kernel=rbf; total time=   0.0s\n",
      "[CV] END C=22.76927941060928, gamma=0.22169760231351215, kernel=rbf; total time=   0.0s\n",
      "[CV] END C=16483.850529752886, gamma=1.4752145260435134, kernel=linear; total time=   0.0s\n",
      "[CV] END C=16483.850529752886, gamma=1.4752145260435134, kernel=linear; total time=   0.0s\n",
      "[CV] END C=16483.850529752886, gamma=1.4752145260435134, kernel=linear; total time=   0.0s\n",
      "[CV] END C=16483.850529752886, gamma=1.4752145260435134, kernel=linear; total time=   0.0s\n",
      "[CV] END C=16483.850529752886, gamma=1.4752145260435134, kernel=linear; total time=   0.0s\n",
      "[CV] END C=101445.66881340064, gamma=1.052904084582266, kernel=rbf; total time=   0.0s\n",
      "[CV] END C=101445.66881340064, gamma=1.052904084582266, kernel=rbf; total time=   0.0s\n",
      "[CV] END C=101445.66881340064, gamma=1.052904084582266, kernel=rbf; total time=   0.0s\n",
      "[CV] END C=101445.66881340064, gamma=1.052904084582266, kernel=rbf; total time=   0.0s\n",
      "[CV] END C=101445.66881340064, gamma=1.052904084582266, kernel=rbf; total time=   0.0s\n",
      "[CV] END C=56681.80859029545, gamma=0.9763011917123741, kernel=rbf; total time=   0.0s\n",
      "[CV] END C=56681.80859029545, gamma=0.9763011917123741, kernel=rbf; total time=   0.0s\n",
      "[CV] END C=56681.80859029545, gamma=0.9763011917123741, kernel=rbf; total time=   0.0s\n",
      "[CV] END C=56681.80859029545, gamma=0.9763011917123741, kernel=rbf; total time=   0.0s\n",
      "[CV] END C=56681.80859029545, gamma=0.9763011917123741, kernel=rbf; total time=   0.0s\n",
      "[CV] END C=48.15822390928914, gamma=0.4633351167983427, kernel=rbf; total time=   0.0s\n",
      "[CV] END C=48.15822390928914, gamma=0.4633351167983427, kernel=rbf; total time=   0.0s\n",
      "[CV] END C=48.15822390928914, gamma=0.4633351167983427, kernel=rbf; total time=   0.0s\n",
      "[CV] END C=48.15822390928914, gamma=0.4633351167983427, kernel=rbf; total time=   0.0s\n",
      "[CV] END C=48.15822390928914, gamma=0.4633351167983427, kernel=rbf; total time=   0.0s\n",
      "[CV] END C=399.7268155705774, gamma=1.3078757839577408, kernel=rbf; total time=   0.0s\n",
      "[CV] END C=399.7268155705774, gamma=1.3078757839577408, kernel=rbf; total time=   0.0s\n",
      "[CV] END C=399.7268155705774, gamma=1.3078757839577408, kernel=rbf; total time=   0.0s\n",
      "[CV] END C=399.7268155705774, gamma=1.3078757839577408, kernel=rbf; total time=   0.0s\n",
      "[CV] END C=399.7268155705774, gamma=1.3078757839577408, kernel=rbf; total time=   0.0s\n",
      "[CV] END C=251.14073886281363, gamma=0.8238105204914145, kernel=linear; total time=   0.0s\n",
      "[CV] END C=251.14073886281363, gamma=0.8238105204914145, kernel=linear; total time=   0.0s\n",
      "[CV] END C=251.14073886281363, gamma=0.8238105204914145, kernel=linear; total time=   0.0s\n",
      "[CV] END C=251.14073886281363, gamma=0.8238105204914145, kernel=linear; total time=   0.0s\n",
      "[CV] END C=251.14073886281363, gamma=0.8238105204914145, kernel=linear; total time=   0.0s\n",
      "[CV] END C=60.17373642891687, gamma=1.2491263443165994, kernel=linear; total time=   0.0s\n",
      "[CV] END C=60.17373642891687, gamma=1.2491263443165994, kernel=linear; total time=   0.0s\n",
      "[CV] END C=60.17373642891687, gamma=1.2491263443165994, kernel=linear; total time=   0.0s\n",
      "[CV] END C=60.17373642891687, gamma=1.2491263443165994, kernel=linear; total time=   0.0s\n",
      "[CV] END C=60.17373642891687, gamma=1.2491263443165994, kernel=linear; total time=   0.0s\n",
      "[CV] END C=15415.161544891856, gamma=0.2691677514619319, kernel=rbf; total time=   0.0s\n",
      "[CV] END C=15415.161544891856, gamma=0.2691677514619319, kernel=rbf; total time=   0.0s\n"
     ]
    },
    {
     "name": "stdout",
     "output_type": "stream",
     "text": [
      "[CV] END C=15415.161544891856, gamma=0.2691677514619319, kernel=rbf; total time=   0.0s\n",
      "[CV] END C=15415.161544891856, gamma=0.2691677514619319, kernel=rbf; total time=   0.0s\n",
      "[CV] END C=15415.161544891856, gamma=0.2691677514619319, kernel=rbf; total time=   0.0s\n",
      "[CV] END C=1888.9148509967113, gamma=0.739678838777267, kernel=linear; total time=   0.0s\n",
      "[CV] END C=1888.9148509967113, gamma=0.739678838777267, kernel=linear; total time=   0.0s\n",
      "[CV] END C=1888.9148509967113, gamma=0.739678838777267, kernel=linear; total time=   0.0s\n",
      "[CV] END C=1888.9148509967113, gamma=0.739678838777267, kernel=linear; total time=   0.0s\n",
      "[CV] END C=1888.9148509967113, gamma=0.739678838777267, kernel=linear; total time=   0.0s\n",
      "[CV] END C=55.53838911232773, gamma=0.578634378499143, kernel=linear; total time=   0.0s\n",
      "[CV] END C=55.53838911232773, gamma=0.578634378499143, kernel=linear; total time=   0.0s\n",
      "[CV] END C=55.53838911232773, gamma=0.578634378499143, kernel=linear; total time=   0.0s\n",
      "[CV] END C=55.53838911232773, gamma=0.578634378499143, kernel=linear; total time=   0.0s\n",
      "[CV] END C=55.53838911232773, gamma=0.578634378499143, kernel=linear; total time=   0.0s\n",
      "[CV] END C=26.714480823948186, gamma=1.0117295509275495, kernel=rbf; total time=   0.0s\n",
      "[CV] END C=26.714480823948186, gamma=1.0117295509275495, kernel=rbf; total time=   0.0s\n",
      "[CV] END C=26.714480823948186, gamma=1.0117295509275495, kernel=rbf; total time=   0.0s\n",
      "[CV] END C=26.714480823948186, gamma=1.0117295509275495, kernel=rbf; total time=   0.0s\n",
      "[CV] END C=26.714480823948186, gamma=1.0117295509275495, kernel=rbf; total time=   0.0s\n",
      "[CV] END C=3582.0552780489566, gamma=1.1891370222133257, kernel=linear; total time=   0.0s\n",
      "[CV] END C=3582.0552780489566, gamma=1.1891370222133257, kernel=linear; total time=   0.0s\n",
      "[CV] END C=3582.0552780489566, gamma=1.1891370222133257, kernel=linear; total time=   0.0s\n",
      "[CV] END C=3582.0552780489566, gamma=1.1891370222133257, kernel=linear; total time=   0.0s\n",
      "[CV] END C=3582.0552780489566, gamma=1.1891370222133257, kernel=linear; total time=   0.0s\n",
      "[CV] END C=198.7004781812736, gamma=0.5282819748826726, kernel=linear; total time=   0.0s\n",
      "[CV] END C=198.7004781812736, gamma=0.5282819748826726, kernel=linear; total time=   0.0s\n",
      "[CV] END C=198.7004781812736, gamma=0.5282819748826726, kernel=linear; total time=   0.0s\n",
      "[CV] END C=198.7004781812736, gamma=0.5282819748826726, kernel=linear; total time=   0.0s\n",
      "[CV] END C=198.7004781812736, gamma=0.5282819748826726, kernel=linear; total time=   0.0s\n",
      "[CV] END C=129.8000604143307, gamma=2.8621383676481322, kernel=linear; total time=   0.0s\n",
      "[CV] END C=129.8000604143307, gamma=2.8621383676481322, kernel=linear; total time=   0.0s\n",
      "[CV] END C=129.8000604143307, gamma=2.8621383676481322, kernel=linear; total time=   0.0s\n",
      "[CV] END C=129.8000604143307, gamma=2.8621383676481322, kernel=linear; total time=   0.0s\n",
      "[CV] END C=129.8000604143307, gamma=2.8621383676481322, kernel=linear; total time=   0.0s\n",
      "[CV] END C=288.4269299593897, gamma=0.17580835850006285, kernel=rbf; total time=   0.0s\n",
      "[CV] END C=288.4269299593897, gamma=0.17580835850006285, kernel=rbf; total time=   0.0s\n",
      "[CV] END C=288.4269299593897, gamma=0.17580835850006285, kernel=rbf; total time=   0.0s\n",
      "[CV] END C=288.4269299593897, gamma=0.17580835850006285, kernel=rbf; total time=   0.0s\n",
      "[CV] END C=288.4269299593897, gamma=0.17580835850006285, kernel=rbf; total time=   0.0s\n",
      "[CV] END C=6287.039489427172, gamma=0.3504567255332862, kernel=linear; total time=   0.0s\n",
      "[CV] END C=6287.039489427172, gamma=0.3504567255332862, kernel=linear; total time=   0.0s\n",
      "[CV] END C=6287.039489427172, gamma=0.3504567255332862, kernel=linear; total time=   0.0s\n",
      "[CV] END C=6287.039489427172, gamma=0.3504567255332862, kernel=linear; total time=   0.0s\n",
      "[CV] END C=6287.039489427172, gamma=0.3504567255332862, kernel=linear; total time=   0.0s\n",
      "[CV] END C=61217.04421344494, gamma=1.6279689407405564, kernel=rbf; total time=   0.0s\n",
      "[CV] END C=61217.04421344494, gamma=1.6279689407405564, kernel=rbf; total time=   0.0s\n",
      "[CV] END C=61217.04421344494, gamma=1.6279689407405564, kernel=rbf; total time=   0.0s\n",
      "[CV] END C=61217.04421344494, gamma=1.6279689407405564, kernel=rbf; total time=   0.0s\n",
      "[CV] END C=61217.04421344494, gamma=1.6279689407405564, kernel=rbf; total time=   0.0s\n",
      "[CV] END C=926.9787684096649, gamma=2.147979593060577, kernel=rbf; total time=   0.0s\n",
      "[CV] END C=926.9787684096649, gamma=2.147979593060577, kernel=rbf; total time=   0.0s\n",
      "[CV] END C=926.9787684096649, gamma=2.147979593060577, kernel=rbf; total time=   0.0s\n",
      "[CV] END C=926.9787684096649, gamma=2.147979593060577, kernel=rbf; total time=   0.0s\n",
      "[CV] END C=926.9787684096649, gamma=2.147979593060577, kernel=rbf; total time=   0.0s\n",
      "[CV] END C=33946.157064934, gamma=2.2642426492862313, kernel=linear; total time=   0.0s\n",
      "[CV] END C=33946.157064934, gamma=2.2642426492862313, kernel=linear; total time=   0.0s\n",
      "[CV] END C=33946.157064934, gamma=2.2642426492862313, kernel=linear; total time=   0.0s\n",
      "[CV] END C=33946.157064934, gamma=2.2642426492862313, kernel=linear; total time=   0.0s\n",
      "[CV] END C=33946.157064934, gamma=2.2642426492862313, kernel=linear; total time=   0.0s\n",
      "[CV] END C=84789.82947739525, gamma=0.3176359085304841, kernel=linear; total time=   0.0s\n",
      "[CV] END C=84789.82947739525, gamma=0.3176359085304841, kernel=linear; total time=   0.0s\n",
      "[CV] END C=84789.82947739525, gamma=0.3176359085304841, kernel=linear; total time=   0.0s\n",
      "[CV] END C=84789.82947739525, gamma=0.3176359085304841, kernel=linear; total time=   0.0s\n",
      "[CV] END C=84789.82947739525, gamma=0.3176359085304841, kernel=linear; total time=   0.0s\n"
     ]
    },
    {
     "data": {
      "text/plain": [
       "RandomizedSearchCV(cv=5, estimator=SVR(), n_iter=50,\n",
       "                   param_distributions={'C': <scipy.stats._distn_infrastructure.rv_frozen object at 0x000001E28433BF48>,\n",
       "                                        'gamma': <scipy.stats._distn_infrastructure.rv_frozen object at 0x000001E28433BA88>,\n",
       "                                        'kernel': ['linear', 'rbf']},\n",
       "                   random_state=42, scoring='neg_mean_squared_error',\n",
       "                   verbose=2)"
      ]
     },
     "execution_count": 82,
     "metadata": {},
     "output_type": "execute_result"
    }
   ],
   "source": [
    "from scipy.stats import expon, reciprocal\n",
    "param_distribs_svr = {\n",
    "        'kernel': ['linear', 'rbf'],\n",
    "        'C': reciprocal(20, 200000),\n",
    "        'gamma': expon(scale=1.0),\n",
    "    } \n",
    "\n",
    "svm_reg = SVR()\n",
    "rnd_search_svr = RandomizedSearchCV(svm_reg, param_distributions=param_distribs_svr,\n",
    "                                n_iter=50, cv=5, scoring='neg_mean_squared_error',\n",
    "                                verbose=2, random_state=42)\n",
    "rnd_search_svr.fit(strat_train_prepared, strat_train_labels)"
   ]
  },
  {
   "cell_type": "code",
   "execution_count": 83,
   "metadata": {},
   "outputs": [
    {
     "name": "stdout",
     "output_type": "stream",
     "text": [
      "{'C': 34246.75194632794, 'gamma': 0.3632878599687583, 'kernel': 'linear'}\n",
      "SVR(C=34246.75194632794, gamma=0.3632878599687583, kernel='linear')\n",
      "Best Score: 600956.8596322286\n"
     ]
    }
   ],
   "source": [
    "print(rnd_search_svr.best_params_)\n",
    "print(rnd_search_svr.best_estimator_)\n",
    "print(\"Best Score: {0}\".format(np.sqrt(-rnd_search_svr.best_score_)))"
   ]
  },
  {
   "cell_type": "code",
   "execution_count": 84,
   "metadata": {
    "scrolled": true
   },
   "outputs": [
    {
     "name": "stdout",
     "output_type": "stream",
     "text": [
      "1094765.5486976888 {'C': 629.782329591372, 'gamma': 3.010121430917521, 'kernel': 'linear'}\n",
      "1807344.9496448098 {'C': 26290.206464300216, 'gamma': 0.9084469696321253, 'kernel': 'rbf'}\n",
      "1806646.3432579075 {'C': 84.14107900575871, 'gamma': 0.059838768608680676, 'kernel': 'rbf'}\n",
      "1270339.8344447585 {'C': 432.37884813148855, 'gamma': 0.15416196746656105, 'kernel': 'linear'}\n",
      "1807790.7945334218 {'C': 24.17508294611391, 'gamma': 3.503557475158312, 'kernel': 'rbf'}\n",
      "1586630.6881574679 {'C': 113564.03940586245, 'gamma': 0.0007790692366582295, 'kernel': 'rbf'}\n",
      "1807738.7037246767 {'C': 108.30488238805073, 'gamma': 0.3627537294604771, 'kernel': 'rbf'}\n",
      "1777854.636281951 {'C': 21.344953672647435, 'gamma': 0.023332523598323388, 'kernel': 'linear'}\n",
      "1787297.7379854897 {'C': 5603.270317432516, 'gamma': 0.15023452872733867, 'kernel': 'rbf'}\n",
      "1663547.001301633 {'C': 157055.10989448498, 'gamma': 0.26497040005002437, 'kernel': 'rbf'}\n",
      "605066.231728336 {'C': 27652.464358739708, 'gamma': 0.2227358621286903, 'kernel': 'linear'}\n",
      "617693.2963467011 {'C': 171377.39570378003, 'gamma': 0.628789100540856, 'kernel': 'linear'}\n",
      "651446.0025669155 {'C': 5385.293820172355, 'gamma': 0.18696125197741642, 'kernel': 'linear'}\n",
      "1807790.8288496912 {'C': 22.59903216621323, 'gamma': 2.850796878935603, 'kernel': 'rbf'}\n",
      "600956.8596322286 {'C': 34246.75194632794, 'gamma': 0.3632878599687583, 'kernel': 'linear'}\n",
      "1807621.7442842366 {'C': 167.7278956080511, 'gamma': 0.2757870542258224, 'kernel': 'rbf'}\n",
      "1722331.3842128546 {'C': 61.54360542501371, 'gamma': 0.6835472281341501, 'kernel': 'linear'}\n",
      "1807771.191859957 {'C': 98.73897389920914, 'gamma': 0.4960365360493639, 'kernel': 'rbf'}\n",
      "1804018.2797210694 {'C': 8935.505635947808, 'gamma': 0.37354658165762367, 'kernel': 'rbf'}\n",
      "1628183.4336447415 {'C': 135.76775824842434, 'gamma': 0.838636245624803, 'kernel': 'linear'}\n",
      "1803820.9846751154 {'C': 151136.20282548846, 'gamma': 1.4922453771381408, 'kernel': 'rbf'}\n",
      "1034582.7315545254 {'C': 761.4316758498783, 'gamma': 2.6126336514161914, 'kernel': 'linear'}\n",
      "610394.5018979583 {'C': 97392.81883041795, 'gamma': 0.09265545895311562, 'kernel': 'linear'}\n",
      "721460.5140150858 {'C': 2423.0759984939164, 'gamma': 3.248614270240346, 'kernel': 'linear'}\n",
      "1056833.8613850125 {'C': 717.3632997255095, 'gamma': 0.3165604432088257, 'kernel': 'linear'}\n",
      "1807597.2670921108 {'C': 4446.667521184072, 'gamma': 3.3597284456608496, 'kernel': 'rbf'}\n",
      "696178.3546067616 {'C': 2963.564121207815, 'gamma': 0.15189814782062885, 'kernel': 'linear'}\n",
      "1684227.7601355598 {'C': 91.64267381686706, 'gamma': 0.01575994483585621, 'kernel': 'linear'}\n",
      "1766804.6345680328 {'C': 24547.601975705915, 'gamma': 0.22153944050588595, 'kernel': 'rbf'}\n",
      "1807751.4014624609 {'C': 22.76927941060928, 'gamma': 0.22169760231351215, 'kernel': 'rbf'}\n",
      "616783.9242779006 {'C': 16483.850529752886, 'gamma': 1.4752145260435134, 'kernel': 'linear'}\n",
      "1805145.5995806654 {'C': 101445.66881340064, 'gamma': 1.052904084582266, 'kernel': 'rbf'}\n",
      "1806703.1839226857 {'C': 56681.80859029545, 'gamma': 0.9763011917123741, 'kernel': 'rbf'}\n",
      "1807779.6789118957 {'C': 48.15822390928914, 'gamma': 0.4633351167983427, 'kernel': 'rbf'}\n",
      "1807773.8400332928 {'C': 399.7268155705774, 'gamma': 1.3078757839577408, 'kernel': 'rbf'}\n",
      "1477056.2956492614 {'C': 251.14073886281363, 'gamma': 0.8238105204914145, 'kernel': 'linear'}\n",
      "1724238.6384583416 {'C': 60.17373642891687, 'gamma': 1.2491263443165994, 'kernel': 'linear'}\n",
      "1792433.4786909386 {'C': 15415.161544891856, 'gamma': 0.2691677514619319, 'kernel': 'rbf'}\n",
      "752517.7022692382 {'C': 1888.9148509967113, 'gamma': 0.739678838777267, 'kernel': 'linear'}\n",
      "1730519.8911400996 {'C': 55.53838911232773, 'gamma': 0.578634378499143, 'kernel': 'linear'}\n",
      "1807790.2363870388 {'C': 26.714480823948186, 'gamma': 1.0117295509275495, 'kernel': 'rbf'}\n",
      "683876.0949557119 {'C': 3582.0552780489566, 'gamma': 1.1891370222133257, 'kernel': 'linear'}\n",
      "1542969.8077224162 {'C': 198.7004781812736, 'gamma': 0.5282819748826726, 'kernel': 'linear'}\n",
      "1636127.779728565 {'C': 129.8000604143307, 'gamma': 2.8621383676481322, 'kernel': 'linear'}\n",
      "1806927.7096804068 {'C': 288.4269299593897, 'gamma': 0.17580835850006285, 'kernel': 'rbf'}\n",
      "641937.3565403079 {'C': 6287.039489427172, 'gamma': 0.3504567255332862, 'kernel': 'linear'}\n",
      "1807301.4875149673 {'C': 61217.04421344494, 'gamma': 1.6279689407405564, 'kernel': 'rbf'}\n",
      "1807755.8707745725 {'C': 926.9787684096649, 'gamma': 2.147979593060577, 'kernel': 'rbf'}\n",
      "601012.9674666503 {'C': 33946.157064934, 'gamma': 2.2642426492862313, 'kernel': 'linear'}\n",
      "607389.8046616603 {'C': 84789.82947739525, 'gamma': 0.3176359085304841, 'kernel': 'linear'}\n"
     ]
    }
   ],
   "source": [
    "cvres = rnd_search_svr.cv_results_\n",
    "for mean_score, params in zip(cvres[\"mean_test_score\"], cvres[\"params\"]):\n",
    "    print(np.sqrt(-mean_score), params)"
   ]
  },
  {
   "cell_type": "markdown",
   "metadata": {},
   "source": [
    "The best model is the Random Forest Regressor model model obtaind from Randomized Search with mean error of Best Score: 597118.7263403998"
   ]
  },
  {
   "cell_type": "code",
   "execution_count": 85,
   "metadata": {},
   "outputs": [],
   "source": [
    "final_model = rnd_search_forest.best_estimator_"
   ]
  },
  {
   "cell_type": "markdown",
   "metadata": {},
   "source": [
    "## 3.3 Generalization Error and Confidence Interval For Final Model"
   ]
  },
  {
   "cell_type": "markdown",
   "metadata": {},
   "source": [
    "I skipped caclualting error on test set as the error on validation set was too large and the approach to building this model was not accurate. See PricingEstimateV2 for newer model"
   ]
  }
 ],
 "metadata": {
  "kernelspec": {
   "display_name": "Python 3.7.3 64-bit ('base': conda)",
   "language": "python",
   "name": "python37364bitbasecondaa52cc35361a54fde93ba82f78057f9b8"
  },
  "language_info": {
   "codemirror_mode": {
    "name": "ipython",
    "version": 3
   },
   "file_extension": ".py",
   "mimetype": "text/x-python",
   "name": "python",
   "nbconvert_exporter": "python",
   "pygments_lexer": "ipython3",
   "version": "3.7.4"
  },
  "metadata": {
   "interpreter": {
    "hash": "97ae724bfa85b9b34df7982b8bb8c7216f435b92902d749e4263f71162bea840"
   }
  }
 },
 "nbformat": 4,
 "nbformat_minor": 2
}
